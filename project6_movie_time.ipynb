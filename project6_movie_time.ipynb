{
  "nbformat": 4,
  "nbformat_minor": 0,
  "metadata": {
    "colab": {
      "name": "project6_movie_time",
      "version": "0.3.2",
      "provenance": [],
      "collapsed_sections": [],
      "include_colab_link": true
    },
    "kernelspec": {
      "name": "python3",
      "display_name": "Python 3"
    }
  },
  "cells": [
    {
      "cell_type": "markdown",
      "metadata": {
        "id": "view-in-github",
        "colab_type": "text"
      },
      "source": [
        "<a href=\"https://colab.research.google.com/github/madhuselvaraj/workspace-python-pandas/blob/master/project6_movie_time.ipynb\" target=\"_parent\"><img src=\"https://colab.research.google.com/assets/colab-badge.svg\" alt=\"Open In Colab\"/></a>"
      ]
    },
    {
      "cell_type": "markdown",
      "metadata": {
        "id": "deMoNBrNuO0n",
        "colab_type": "text"
      },
      "source": [
        "#PROJECT 6 -Movie time\n",
        "**Heading**: Pandas\n",
        "\n",
        "**Topics** **covered**: merging,concatenation,Date functionality\n",
        "\n",
        "**concept**: sheduling movie time in two Screens"
      ]
    },
    {
      "cell_type": "code",
      "metadata": {
        "id": "LLri0mEfb2Gm",
        "colab_type": "code",
        "colab": {}
      },
      "source": [
        "import pandas as pd\n",
        "import numpy as np"
      ],
      "execution_count": 0,
      "outputs": []
    },
    {
      "cell_type": "markdown",
      "metadata": {
        "id": "8qvPmejbn38w",
        "colab_type": "text"
      },
      "source": [
        "create a dataframe"
      ]
    },
    {
      "cell_type": "code",
      "metadata": {
        "id": "rjwH0iTTcFBU",
        "colab_type": "code",
        "colab": {}
      },
      "source": [
        "time = pd.date_range('02-06-2019 10:00:00',freq = \"3h\",periods = 4)\n",
        "df_screen1 = pd.DataFrame(pd.Series(time),columns = [\"Screen\"])\n"
      ],
      "execution_count": 0,
      "outputs": []
    },
    {
      "cell_type": "markdown",
      "metadata": {
        "id": "svmDsMNdoTed",
        "colab_type": "text"
      },
      "source": [
        "creating a column called '**Movie**'"
      ]
    },
    {
      "cell_type": "code",
      "metadata": {
        "id": "cTVfZgCWgmqq",
        "colab_type": "code",
        "outputId": "9c40ff83-3864-4841-cdf0-fa93c2cfde34",
        "colab": {
          "base_uri": "https://localhost:8080/",
          "height": 108
        }
      },
      "source": [
        "df_screen1['Movie'] = pd.DataFrame(pd.Series([\"Monster\",\"Godzilla\"],index = [0,3]))\n",
        "print(df_screen1)"
      ],
      "execution_count": 0,
      "outputs": [
        {
          "output_type": "stream",
          "text": [
            "               Screen     Movie\n",
            "0 2019-02-06 10:00:00   Monster\n",
            "1 2019-02-06 13:00:00       NaN\n",
            "2 2019-02-06 16:00:00       NaN\n",
            "3 2019-02-06 19:00:00  Godzilla\n"
          ],
          "name": "stdout"
        }
      ]
    },
    {
      "cell_type": "markdown",
      "metadata": {
        "id": "j8u2JG-hn9ll",
        "colab_type": "text"
      },
      "source": [
        "filling null values"
      ]
    },
    {
      "cell_type": "code",
      "metadata": {
        "id": "L74xG8H_hYRE",
        "colab_type": "code",
        "colab": {}
      },
      "source": [
        "df_screen1 = df_screen1.fillna(method='bfill',limit = 1)"
      ],
      "execution_count": 0,
      "outputs": []
    },
    {
      "cell_type": "code",
      "metadata": {
        "id": "Ssxeanp1h88Q",
        "colab_type": "code",
        "colab": {}
      },
      "source": [
        "df_screen1 = df_screen1.fillna(method='ffill')"
      ],
      "execution_count": 0,
      "outputs": []
    },
    {
      "cell_type": "markdown",
      "metadata": {
        "id": "oEpT6BZrodm0",
        "colab_type": "text"
      },
      "source": [
        "**screen 1**"
      ]
    },
    {
      "cell_type": "code",
      "metadata": {
        "id": "N1MsFK_Qhv3r",
        "colab_type": "code",
        "outputId": "bb351315-2462-4a44-d470-9f2ee25b8179",
        "colab": {
          "base_uri": "https://localhost:8080/",
          "height": 108
        }
      },
      "source": [
        "print(df_screen1)"
      ],
      "execution_count": 0,
      "outputs": [
        {
          "output_type": "stream",
          "text": [
            "               Screen     Movie\n",
            "0 2019-02-06 10:00:00   Monster\n",
            "1 2019-02-06 13:00:00   Monster\n",
            "2 2019-02-06 16:00:00  Godzilla\n",
            "3 2019-02-06 19:00:00  Godzilla\n"
          ],
          "name": "stdout"
        }
      ]
    },
    {
      "cell_type": "markdown",
      "metadata": {
        "id": "5YkDpA9HoimF",
        "colab_type": "text"
      },
      "source": [
        "craete a dataframe"
      ]
    },
    {
      "cell_type": "code",
      "metadata": {
        "id": "dqoQJ45RgMSC",
        "colab_type": "code",
        "colab": {}
      },
      "source": [
        "time = pd.date_range('02-06-2019 10:00:00',freq = \"3h\",periods = 4)\n",
        "df_screen2 = pd.DataFrame(pd.Series(time),columns = [\"Screen\"])"
      ],
      "execution_count": 0,
      "outputs": []
    },
    {
      "cell_type": "markdown",
      "metadata": {
        "id": "aTJRHWtVoluN",
        "colab_type": "text"
      },
      "source": [
        "**Screen 2**"
      ]
    },
    {
      "cell_type": "code",
      "metadata": {
        "id": "1bCOs5yhiEoe",
        "colab_type": "code",
        "outputId": "04dc6b89-86e6-43c7-d3df-634936de79cd",
        "colab": {
          "base_uri": "https://localhost:8080/",
          "height": 108
        }
      },
      "source": [
        "df_screen2['Movie'] = pd.DataFrame(pd.Series([\"NGK\",\"Devi2\",\"NGK\",\"Devi2\"]))\n",
        "print(df_screen2)"
      ],
      "execution_count": 0,
      "outputs": [
        {
          "output_type": "stream",
          "text": [
            "               Screen  Movie\n",
            "0 2019-02-06 10:00:00    NGK\n",
            "1 2019-02-06 13:00:00  Devi2\n",
            "2 2019-02-06 16:00:00    NGK\n",
            "3 2019-02-06 19:00:00  Devi2\n"
          ],
          "name": "stdout"
        }
      ]
    },
    {
      "cell_type": "code",
      "metadata": {
        "id": "M2ZOsOJii_HP",
        "colab_type": "code",
        "outputId": "bd3e2119-92fe-41e2-adb9-ce44f835419a",
        "colab": {
          "base_uri": "https://localhost:8080/",
          "height": 108
        }
      },
      "source": [
        "print(pd.merge(df_screen1,df_screen2,on = \"Screen\"))"
      ],
      "execution_count": 0,
      "outputs": [
        {
          "output_type": "stream",
          "text": [
            "               Screen   Movie_x Movie_y\n",
            "0 2019-02-06 10:00:00   Monster     NGK\n",
            "1 2019-02-06 13:00:00   Monster   Devi2\n",
            "2 2019-02-06 16:00:00  Godzilla     NGK\n",
            "3 2019-02-06 19:00:00  Godzilla   Devi2\n"
          ],
          "name": "stdout"
        }
      ]
    },
    {
      "cell_type": "code",
      "metadata": {
        "id": "3JH1roTlkvHp",
        "colab_type": "code",
        "outputId": "b9345e7e-ed0d-4ad1-da54-39ebb005328a",
        "colab": {
          "base_uri": "https://localhost:8080/",
          "height": 181
        }
      },
      "source": [
        "print(pd.concat([df_screen1,df_screen2],ignore_index = True))"
      ],
      "execution_count": 0,
      "outputs": [
        {
          "output_type": "stream",
          "text": [
            "               Screen     Movie\n",
            "0 2019-02-06 10:00:00   Monster\n",
            "1 2019-02-06 13:00:00   Monster\n",
            "2 2019-02-06 16:00:00  Godzilla\n",
            "3 2019-02-06 19:00:00  Godzilla\n",
            "4 2019-02-06 10:00:00       NGK\n",
            "5 2019-02-06 13:00:00     Devi2\n",
            "6 2019-02-06 16:00:00       NGK\n",
            "7 2019-02-06 19:00:00     Devi2\n"
          ],
          "name": "stdout"
        }
      ]
    },
    {
      "cell_type": "markdown",
      "metadata": {
        "id": "4p3_XyLAosjN",
        "colab_type": "text"
      },
      "source": [
        "**ouput**"
      ]
    },
    {
      "cell_type": "code",
      "metadata": {
        "id": "Ale1I-P0mNbx",
        "colab_type": "code",
        "outputId": "3a08ca2a-76ac-49f9-f60b-e509328a65dd",
        "colab": {
          "base_uri": "https://localhost:8080/",
          "height": 181
        }
      },
      "source": [
        "print(pd.concat([df_screen1,df_screen2],keys = ['Screen 1','Screen 2']))"
      ],
      "execution_count": 0,
      "outputs": [
        {
          "output_type": "stream",
          "text": [
            "                        Screen     Movie\n",
            "Screen 1 0 2019-02-06 10:00:00   Monster\n",
            "         1 2019-02-06 13:00:00   Monster\n",
            "         2 2019-02-06 16:00:00  Godzilla\n",
            "         3 2019-02-06 19:00:00  Godzilla\n",
            "Screen 2 0 2019-02-06 10:00:00       NGK\n",
            "         1 2019-02-06 13:00:00     Devi2\n",
            "         2 2019-02-06 16:00:00       NGK\n",
            "         3 2019-02-06 19:00:00     Devi2\n"
          ],
          "name": "stdout"
        }
      ]
    }
  ]
}