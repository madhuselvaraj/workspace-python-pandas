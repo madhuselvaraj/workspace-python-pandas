{
  "nbformat": 4,
  "nbformat_minor": 0,
  "metadata": {
    "colab": {
      "name": "day3",
      "version": "0.3.2",
      "provenance": [],
      "collapsed_sections": [],
      "include_colab_link": true
    },
    "kernelspec": {
      "name": "python3",
      "display_name": "Python 3"
    }
  },
  "cells": [
    {
      "cell_type": "markdown",
      "metadata": {
        "id": "view-in-github",
        "colab_type": "text"
      },
      "source": [
        "<a href=\"https://colab.research.google.com/github/madhuselvaraj/workspace-python-pandas/blob/master/day3.ipynb\" target=\"_parent\"><img src=\"https://colab.research.google.com/assets/colab-badge.svg\" alt=\"Open In Colab\"/></a>"
      ]
    },
    {
      "cell_type": "code",
      "metadata": {
        "id": "dSxsboI-4cuJ",
        "colab_type": "code",
        "colab": {}
      },
      "source": [
        "import pandas as pd"
      ],
      "execution_count": 0,
      "outputs": []
    },
    {
      "cell_type": "code",
      "metadata": {
        "id": "dC6qDkHr48qf",
        "colab_type": "code",
        "colab": {}
      },
      "source": [
        "import numpy as np"
      ],
      "execution_count": 0,
      "outputs": []
    },
    {
      "cell_type": "markdown",
      "metadata": {
        "id": "q7PDO60jEkjy",
        "colab_type": "text"
      },
      "source": [
        "**Reindexing**"
      ]
    },
    {
      "cell_type": "code",
      "metadata": {
        "id": "USlagXwE4tT_",
        "colab_type": "code",
        "outputId": "35887a4e-3d1e-4ff5-abd4-f0ffcc5ebc75",
        "colab": {
          "base_uri": "https://localhost:8080/",
          "height": 90
        }
      },
      "source": [
        "data1 = {\"c1\":pd.Series(np.random.rand(3)),\n",
        "       \"c2\":pd.Series(np.random.rand(3)),\n",
        "        \"c3\":pd.Series(np.random.rand(3))}\n",
        "df1 = pd.DataFrame(data1)\n",
        "print(df1)"
      ],
      "execution_count": 0,
      "outputs": [
        {
          "output_type": "stream",
          "text": [
            "         c1        c2        c3\n",
            "0  0.422903  0.031462  0.776654\n",
            "1  0.941692  0.885687  0.946839\n",
            "2  0.233213  0.036606  0.961089\n"
          ],
          "name": "stdout"
        }
      ]
    },
    {
      "cell_type": "code",
      "metadata": {
        "id": "zrPPPyDU507A",
        "colab_type": "code",
        "outputId": "6e01facd-3f7f-4520-8961-d03f5cfc4d47",
        "colab": {
          "base_uri": "https://localhost:8080/",
          "height": 126
        }
      },
      "source": [
        "data2 = {\"c1\":pd.Series(np.random.rand(5)),\n",
        "       \"c2\":pd.Series(np.random.rand(5)),\n",
        "        \"c3\":pd.Series(np.random.rand(5))}\n",
        "df2 = pd.DataFrame(data2)\n",
        "print(df2)"
      ],
      "execution_count": 0,
      "outputs": [
        {
          "output_type": "stream",
          "text": [
            "         c1        c2        c3\n",
            "0  0.396899  0.239033  0.545513\n",
            "1  0.539415  0.509574  0.900707\n",
            "2  0.277722  0.379551  0.885583\n",
            "3  0.365777  0.933537  0.479310\n",
            "4  0.884530  0.583241  0.793531\n"
          ],
          "name": "stdout"
        }
      ]
    },
    {
      "cell_type": "code",
      "metadata": {
        "id": "9TWOdN8G8fJv",
        "colab_type": "code",
        "outputId": "d44fbc42-b68b-4028-f119-b24a555ba6be",
        "colab": {
          "base_uri": "https://localhost:8080/",
          "height": 126
        }
      },
      "source": [
        "print(df1.reindex_like(df2))"
      ],
      "execution_count": 0,
      "outputs": [
        {
          "output_type": "stream",
          "text": [
            "         c1        c2        c3\n",
            "0  0.422903  0.031462  0.776654\n",
            "1  0.941692  0.885687  0.946839\n",
            "2  0.233213  0.036606  0.961089\n",
            "3       NaN       NaN       NaN\n",
            "4       NaN       NaN       NaN\n"
          ],
          "name": "stdout"
        }
      ]
    },
    {
      "cell_type": "code",
      "metadata": {
        "id": "9WC0hwLI9ZZb",
        "colab_type": "code",
        "outputId": "0faef499-cbfe-4b77-cd52-72c255e0ccb8",
        "colab": {
          "base_uri": "https://localhost:8080/",
          "height": 126
        }
      },
      "source": [
        "print(df1.reindex_like(df2,method = \"ffill\",limit = 1))"
      ],
      "execution_count": 0,
      "outputs": [
        {
          "output_type": "stream",
          "text": [
            "         c1        c2        c3\n",
            "0  0.422903  0.031462  0.776654\n",
            "1  0.941692  0.885687  0.946839\n",
            "2  0.233213  0.036606  0.961089\n",
            "3  0.233213  0.036606  0.961089\n",
            "4       NaN       NaN       NaN\n"
          ],
          "name": "stdout"
        }
      ]
    },
    {
      "cell_type": "code",
      "metadata": {
        "id": "1_9M_Lcg95fY",
        "colab_type": "code",
        "outputId": "41ebc865-8e42-42a7-e0d7-4470c6a7cc7f",
        "colab": {
          "base_uri": "https://localhost:8080/",
          "height": 126
        }
      },
      "source": [
        "print(df1.reindex_like(df2,method = \"bfill\"))"
      ],
      "execution_count": 0,
      "outputs": [
        {
          "output_type": "stream",
          "text": [
            "         c1        c2        c3\n",
            "0  0.422903  0.031462  0.776654\n",
            "1  0.941692  0.885687  0.946839\n",
            "2  0.233213  0.036606  0.961089\n",
            "3       NaN       NaN       NaN\n",
            "4       NaN       NaN       NaN\n"
          ],
          "name": "stdout"
        }
      ]
    },
    {
      "cell_type": "code",
      "metadata": {
        "id": "pvILh-ci-VqC",
        "colab_type": "code",
        "outputId": "b7b0bd40-f07a-446f-c39f-90caf89adb71",
        "colab": {
          "base_uri": "https://localhost:8080/",
          "height": 126
        }
      },
      "source": [
        "print(df1.reindex_like(df2,method = \"nearest\"))"
      ],
      "execution_count": 0,
      "outputs": [
        {
          "output_type": "stream",
          "text": [
            "         c1        c2        c3\n",
            "0  0.422903  0.031462  0.776654\n",
            "1  0.941692  0.885687  0.946839\n",
            "2  0.233213  0.036606  0.961089\n",
            "3  0.233213  0.036606  0.961089\n",
            "4  0.233213  0.036606  0.961089\n"
          ],
          "name": "stdout"
        }
      ]
    },
    {
      "cell_type": "code",
      "metadata": {
        "id": "VlPh9fZa_K5n",
        "colab_type": "code",
        "outputId": "127c80af-dbba-4a8b-c3cf-e56769ebbef0",
        "colab": {
          "base_uri": "https://localhost:8080/",
          "height": 138
        }
      },
      "source": [
        "df1.rename(columns = {\"col1\":\"colu1\",\"col2\":\"colu2\",\"col3\":\"colu3\"},index = {1:'a',2:'b'})"
      ],
      "execution_count": 0,
      "outputs": [
        {
          "output_type": "execute_result",
          "data": {
            "text/html": [
              "<div>\n",
              "<style scoped>\n",
              "    .dataframe tbody tr th:only-of-type {\n",
              "        vertical-align: middle;\n",
              "    }\n",
              "\n",
              "    .dataframe tbody tr th {\n",
              "        vertical-align: top;\n",
              "    }\n",
              "\n",
              "    .dataframe thead th {\n",
              "        text-align: right;\n",
              "    }\n",
              "</style>\n",
              "<table border=\"1\" class=\"dataframe\">\n",
              "  <thead>\n",
              "    <tr style=\"text-align: right;\">\n",
              "      <th></th>\n",
              "      <th>colu1</th>\n",
              "      <th>colu2</th>\n",
              "      <th>colu3</th>\n",
              "    </tr>\n",
              "  </thead>\n",
              "  <tbody>\n",
              "    <tr>\n",
              "      <th>0</th>\n",
              "      <td>0.422903</td>\n",
              "      <td>0.031462</td>\n",
              "      <td>0.776654</td>\n",
              "    </tr>\n",
              "    <tr>\n",
              "      <th>a</th>\n",
              "      <td>0.941692</td>\n",
              "      <td>0.885687</td>\n",
              "      <td>0.946839</td>\n",
              "    </tr>\n",
              "    <tr>\n",
              "      <th>b</th>\n",
              "      <td>0.233213</td>\n",
              "      <td>0.036606</td>\n",
              "      <td>0.961089</td>\n",
              "    </tr>\n",
              "  </tbody>\n",
              "</table>\n",
              "</div>"
            ],
            "text/plain": [
              "      colu1     colu2     colu3\n",
              "0  0.422903  0.031462  0.776654\n",
              "a  0.941692  0.885687  0.946839\n",
              "b  0.233213  0.036606  0.961089"
            ]
          },
          "metadata": {
            "tags": []
          },
          "execution_count": 32
        }
      ]
    },
    {
      "cell_type": "code",
      "metadata": {
        "id": "Q2tRNCFFDzTZ",
        "colab_type": "code",
        "outputId": "fcc18085-5a47-45f5-f95b-98db14265979",
        "colab": {
          "base_uri": "https://localhost:8080/",
          "height": 90
        }
      },
      "source": [
        "print(df1)"
      ],
      "execution_count": 0,
      "outputs": [
        {
          "output_type": "stream",
          "text": [
            "       col1      col2      col3\n",
            "0  0.422903  0.031462  0.776654\n",
            "a  0.941692  0.885687  0.946839\n",
            "b  0.233213  0.036606  0.961089\n"
          ],
          "name": "stdout"
        }
      ]
    },
    {
      "cell_type": "code",
      "metadata": {
        "id": "Cncf42aQA4YR",
        "colab_type": "code",
        "colab": {}
      },
      "source": [
        "df1.rename(columns = {\"col1\":\"colu1\",\"col2\":\"colu2\",\"col3\":\"colu3\"},index = {1:'a',2:'b'},inplace = True)"
      ],
      "execution_count": 0,
      "outputs": []
    },
    {
      "cell_type": "code",
      "metadata": {
        "id": "-4KnzCidEPo-",
        "colab_type": "code",
        "outputId": "aac77dd7-1b84-4ebb-c143-e8de77406152",
        "colab": {
          "base_uri": "https://localhost:8080/",
          "height": 90
        }
      },
      "source": [
        "print(df1)"
      ],
      "execution_count": 0,
      "outputs": [
        {
          "output_type": "stream",
          "text": [
            "      colu1     colu2     colu3\n",
            "0  0.422903  0.031462  0.776654\n",
            "a  0.941692  0.885687  0.946839\n",
            "b  0.233213  0.036606  0.961089\n"
          ],
          "name": "stdout"
        }
      ]
    },
    {
      "cell_type": "markdown",
      "metadata": {
        "id": "DwgSkEjpGcqR",
        "colab_type": "text"
      },
      "source": [
        "**Iteration**"
      ]
    },
    {
      "cell_type": "code",
      "metadata": {
        "id": "riBOf808EbWX",
        "colab_type": "code",
        "outputId": "14ee1215-5dc5-4e54-f70f-28d7ead703e2",
        "colab": {
          "base_uri": "https://localhost:8080/",
          "height": 72
        }
      },
      "source": [
        "for c in df1:\n",
        "  print(c)"
      ],
      "execution_count": 0,
      "outputs": [
        {
          "output_type": "stream",
          "text": [
            "colu1\n",
            "colu2\n",
            "colu3\n"
          ],
          "name": "stdout"
        }
      ]
    },
    {
      "cell_type": "code",
      "metadata": {
        "id": "li_6ZQ89H5RD",
        "colab_type": "code",
        "outputId": "4202a1ca-9657-4a01-c920-5fe8fd3fce4d",
        "colab": {
          "base_uri": "https://localhost:8080/",
          "height": 126
        }
      },
      "source": [
        "for x,y in df1.iteritems():\n",
        "  print(x)\n",
        "  print(y['a'])"
      ],
      "execution_count": 0,
      "outputs": [
        {
          "output_type": "stream",
          "text": [
            "colu1\n",
            "0.9416916947964619\n",
            "colu2\n",
            "0.8856869788882151\n",
            "colu3\n",
            "0.9468387197300518\n"
          ],
          "name": "stdout"
        }
      ]
    },
    {
      "cell_type": "code",
      "metadata": {
        "id": "mdWIZKsLJAU7",
        "colab_type": "code",
        "outputId": "249592f8-1083-4756-b4f8-7bee70f93e4d",
        "colab": {
          "base_uri": "https://localhost:8080/",
          "height": 126
        }
      },
      "source": [
        "for x,y in df1.iterrows():\n",
        "  print(x)\n",
        "  print(y['colu3'])"
      ],
      "execution_count": 0,
      "outputs": [
        {
          "output_type": "stream",
          "text": [
            "0\n",
            "0.776653698516443\n",
            "a\n",
            "0.9468387197300518\n",
            "b\n",
            "0.9610892163586676\n"
          ],
          "name": "stdout"
        }
      ]
    },
    {
      "cell_type": "code",
      "metadata": {
        "id": "n22hNgaaJRuy",
        "colab_type": "code",
        "outputId": "00827f05-0689-4367-9f64-db6381d24466",
        "colab": {
          "base_uri": "https://localhost:8080/",
          "height": 181
        }
      },
      "source": [
        "for z in df1.itertuples():\n",
        "  print(z[3])\n",
        "  print(z[0])\n",
        "  print(\"========\")"
      ],
      "execution_count": 0,
      "outputs": [
        {
          "output_type": "stream",
          "text": [
            "0.776653698516443\n",
            "0\n",
            "========\n",
            "0.9468387197300518\n",
            "a\n",
            "========\n",
            "0.9610892163586676\n",
            "b\n",
            "========\n"
          ],
          "name": "stdout"
        }
      ]
    },
    {
      "cell_type": "markdown",
      "metadata": {
        "id": "5S66kXw9i9O1",
        "colab_type": "text"
      },
      "source": [
        "**Sorting**"
      ]
    },
    {
      "cell_type": "code",
      "metadata": {
        "id": "-jMRCE3Qi7fB",
        "colab_type": "code",
        "colab": {
          "base_uri": "https://localhost:8080/",
          "height": 217
        },
        "outputId": "3f136bde-a808-4351-b67e-88766c9bf29b"
      },
      "source": [
        "unsorted_df = pd.DataFrame(np.random.randn(10,3),index=[1,4,6,2,3,5,9,8,0,7],columns = ['col2','col1','col3'])\n",
        "print(unsorted_df)"
      ],
      "execution_count": 8,
      "outputs": [
        {
          "output_type": "stream",
          "text": [
            "       col2      col1      col3\n",
            "1  0.100551  0.046166  0.483141\n",
            "4 -0.190286 -0.435149  0.839415\n",
            "6 -1.050673 -0.910066 -2.142279\n",
            "2 -1.100059 -0.173963  0.128825\n",
            "3  0.347697 -1.244759 -1.440663\n",
            "5  1.039209  0.502287  1.222420\n",
            "9  0.751962  0.916517 -1.123492\n",
            "8  1.311515 -1.075901 -0.684345\n",
            "0 -0.544697 -2.079042  0.052216\n",
            "7 -0.585288  1.540427 -0.243021\n"
          ],
          "name": "stdout"
        }
      ]
    },
    {
      "cell_type": "code",
      "metadata": {
        "id": "iuZ1vuM6lQJ7",
        "colab_type": "code",
        "colab": {
          "base_uri": "https://localhost:8080/",
          "height": 217
        },
        "outputId": "0e9e21c7-12bc-47e5-8526-9482f12d1601"
      },
      "source": [
        "print(unsorted_df.sort_index())"
      ],
      "execution_count": 14,
      "outputs": [
        {
          "output_type": "stream",
          "text": [
            "       col2      col1      col3\n",
            "0 -0.544697 -2.079042  0.052216\n",
            "1  0.100551  0.046166  0.483141\n",
            "2 -1.100059 -0.173963  0.128825\n",
            "3  0.347697 -1.244759 -1.440663\n",
            "4 -0.190286 -0.435149  0.839415\n",
            "5  1.039209  0.502287  1.222420\n",
            "6 -1.050673 -0.910066 -2.142279\n",
            "7 -0.585288  1.540427 -0.243021\n",
            "8  1.311515 -1.075901 -0.684345\n",
            "9  0.751962  0.916517 -1.123492\n"
          ],
          "name": "stdout"
        }
      ]
    },
    {
      "cell_type": "code",
      "metadata": {
        "id": "aGD9WxjYjrnL",
        "colab_type": "code",
        "colab": {
          "base_uri": "https://localhost:8080/",
          "height": 217
        },
        "outputId": "0273e8f6-e7a7-4558-bbc9-136792793473"
      },
      "source": [
        "print(unsorted_df.sort_index(axis = 1))"
      ],
      "execution_count": 13,
      "outputs": [
        {
          "output_type": "stream",
          "text": [
            "       col1      col2      col3\n",
            "1  0.046166  0.100551  0.483141\n",
            "4 -0.435149 -0.190286  0.839415\n",
            "6 -0.910066 -1.050673 -2.142279\n",
            "2 -0.173963 -1.100059  0.128825\n",
            "3 -1.244759  0.347697 -1.440663\n",
            "5  0.502287  1.039209  1.222420\n",
            "9  0.916517  0.751962 -1.123492\n",
            "8 -1.075901  1.311515 -0.684345\n",
            "0 -2.079042 -0.544697  0.052216\n",
            "7  1.540427 -0.585288 -0.243021\n"
          ],
          "name": "stdout"
        }
      ]
    },
    {
      "cell_type": "code",
      "metadata": {
        "id": "Zp_7BBQ-lUR9",
        "colab_type": "code",
        "colab": {
          "base_uri": "https://localhost:8080/",
          "height": 217
        },
        "outputId": "873130a8-18c6-4c9d-b849-ca2154cf26a2"
      },
      "source": [
        "print(unsorted_df.sort_index(ascending = False))"
      ],
      "execution_count": 18,
      "outputs": [
        {
          "output_type": "stream",
          "text": [
            "       col2      col1      col3\n",
            "9  0.751962  0.916517 -1.123492\n",
            "8  1.311515 -1.075901 -0.684345\n",
            "7 -0.585288  1.540427 -0.243021\n",
            "6 -1.050673 -0.910066 -2.142279\n",
            "5  1.039209  0.502287  1.222420\n",
            "4 -0.190286 -0.435149  0.839415\n",
            "3  0.347697 -1.244759 -1.440663\n",
            "2 -1.100059 -0.173963  0.128825\n",
            "1  0.100551  0.046166  0.483141\n",
            "0 -0.544697 -2.079042  0.052216\n"
          ],
          "name": "stdout"
        }
      ]
    },
    {
      "cell_type": "code",
      "metadata": {
        "id": "unvozqK7lnL7",
        "colab_type": "code",
        "colab": {
          "base_uri": "https://localhost:8080/",
          "height": 217
        },
        "outputId": "0f903c6a-a3c4-4096-977d-84bcc5b115af"
      },
      "source": [
        "print(unsorted_df.sort_values(by = 'col3'))"
      ],
      "execution_count": 20,
      "outputs": [
        {
          "output_type": "stream",
          "text": [
            "       col2      col1      col3\n",
            "6 -1.050673 -0.910066 -2.142279\n",
            "3  0.347697 -1.244759 -1.440663\n",
            "9  0.751962  0.916517 -1.123492\n",
            "8  1.311515 -1.075901 -0.684345\n",
            "7 -0.585288  1.540427 -0.243021\n",
            "0 -0.544697 -2.079042  0.052216\n",
            "2 -1.100059 -0.173963  0.128825\n",
            "1  0.100551  0.046166  0.483141\n",
            "4 -0.190286 -0.435149  0.839415\n",
            "5  1.039209  0.502287  1.222420\n"
          ],
          "name": "stdout"
        }
      ]
    },
    {
      "cell_type": "code",
      "metadata": {
        "id": "AmIqh9nbnMja",
        "colab_type": "code",
        "colab": {
          "base_uri": "https://localhost:8080/",
          "height": 217
        },
        "outputId": "e8be2da6-3d62-4da3-a9e1-f01038cf386f"
      },
      "source": [
        "sorted_df = unsorted_df.sort_index()\n",
        "print(sorted_df)"
      ],
      "execution_count": 26,
      "outputs": [
        {
          "output_type": "stream",
          "text": [
            "       col2      col1      col3\n",
            "0 -0.544697 -2.079042  0.052216\n",
            "1  0.100551  0.046166  0.483141\n",
            "2 -1.100059 -0.173963  0.128825\n",
            "3  0.347697 -1.244759 -1.440663\n",
            "4 -0.190286 -0.435149  0.839415\n",
            "5  1.039209  0.502287  1.222420\n",
            "6 -1.050673 -0.910066 -2.142279\n",
            "7 -0.585288  1.540427 -0.243021\n",
            "8  1.311515 -1.075901 -0.684345\n",
            "9  0.751962  0.916517 -1.123492\n"
          ],
          "name": "stdout"
        }
      ]
    },
    {
      "cell_type": "code",
      "metadata": {
        "id": "jxWL2N03nfOn",
        "colab_type": "code",
        "colab": {}
      },
      "source": [
        "sorted_df['names'] = pd.Series([\"zero\",\"NaN\",\"two\",\"Nan\",\"four\",\"five\",\"six\",\"seven\",\"eight\",\"nine\"])"
      ],
      "execution_count": 0,
      "outputs": []
    },
    {
      "cell_type": "code",
      "metadata": {
        "id": "0hDRKb7un18s",
        "colab_type": "code",
        "colab": {
          "base_uri": "https://localhost:8080/",
          "height": 217
        },
        "outputId": "13f8a3c8-0b8d-4d55-e7d4-8fbd028601bf"
      },
      "source": [
        "print(sorted_df)"
      ],
      "execution_count": 28,
      "outputs": [
        {
          "output_type": "stream",
          "text": [
            "       col2      col1      col3  names\n",
            "0 -0.544697 -2.079042  0.052216   zero\n",
            "1  0.100551  0.046166  0.483141    one\n",
            "2 -1.100059 -0.173963  0.128825    two\n",
            "3  0.347697 -1.244759 -1.440663  three\n",
            "4 -0.190286 -0.435149  0.839415   four\n",
            "5  1.039209  0.502287  1.222420   five\n",
            "6 -1.050673 -0.910066 -2.142279    six\n",
            "7 -0.585288  1.540427 -0.243021  seven\n",
            "8  1.311515 -1.075901 -0.684345  eight\n",
            "9  0.751962  0.916517 -1.123492   nine\n"
          ],
          "name": "stdout"
        }
      ]
    },
    {
      "cell_type": "code",
      "metadata": {
        "id": "V8k5g_1mmPDZ",
        "colab_type": "code",
        "colab": {
          "base_uri": "https://localhost:8080/",
          "height": 217
        },
        "outputId": "e132aa59-e9dd-4f90-a963-cf6029fb51a8"
      },
      "source": [
        "print(sorted_df.sort_values(by='col1' ,kind='mergesort'))"
      ],
      "execution_count": 37,
      "outputs": [
        {
          "output_type": "stream",
          "text": [
            "       col2      col1      col3  names\n",
            "0 -0.544697 -2.079042  0.052216   zero\n",
            "3  0.347697 -1.244759 -1.440663  three\n",
            "8  1.311515 -1.075901 -0.684345  eight\n",
            "6 -1.050673 -0.910066 -2.142279    six\n",
            "4 -0.190286 -0.435149  0.839415   four\n",
            "2 -1.100059 -0.173963  0.128825    two\n",
            "1  0.100551  0.046166  0.483141    one\n",
            "5  1.039209  0.502287  1.222420   five\n",
            "9  0.751962  0.916517 -1.123492   nine\n",
            "7 -0.585288  1.540427 -0.243021  seven\n"
          ],
          "name": "stdout"
        }
      ]
    },
    {
      "cell_type": "code",
      "metadata": {
        "id": "NVKkfw09mM52",
        "colab_type": "code",
        "colab": {
          "base_uri": "https://localhost:8080/",
          "height": 217
        },
        "outputId": "771e1f71-807e-4b74-dea2-03543f1c3b55"
      },
      "source": [
        "print(sorted_df.sort_values(by='names',na_position ='last',kind = 'mergesort'))"
      ],
      "execution_count": 56,
      "outputs": [
        {
          "output_type": "stream",
          "text": [
            "       col2      col1      col3  names\n",
            "1  0.100551  0.046166  0.483141    NaN\n",
            "3  0.347697 -1.244759 -1.440663    Nan\n",
            "8  1.311515 -1.075901 -0.684345  eight\n",
            "5  1.039209  0.502287  1.222420   five\n",
            "4 -0.190286 -0.435149  0.839415   four\n",
            "9  0.751962  0.916517 -1.123492   nine\n",
            "7 -0.585288  1.540427 -0.243021  seven\n",
            "6 -1.050673 -0.910066 -2.142279    six\n",
            "2 -1.100059 -0.173963  0.128825    two\n",
            "0 -0.544697 -2.079042  0.052216   zero\n"
          ],
          "name": "stdout"
        }
      ]
    }
  ]
}
