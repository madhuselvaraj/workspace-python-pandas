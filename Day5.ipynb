{
  "nbformat": 4,
  "nbformat_minor": 0,
  "metadata": {
    "colab": {
      "name": "Day5.ipynb",
      "version": "0.3.2",
      "provenance": [],
      "collapsed_sections": [],
      "include_colab_link": true
    },
    "kernelspec": {
      "name": "python3",
      "display_name": "Python 3"
    }
  },
  "cells": [
    {
      "cell_type": "markdown",
      "metadata": {
        "id": "view-in-github",
        "colab_type": "text"
      },
      "source": [
        "<a href=\"https://colab.research.google.com/github/madhuselvaraj/workspace-python-pandas/blob/master/Day5.ipynb\" target=\"_parent\"><img src=\"https://colab.research.google.com/assets/colab-badge.svg\" alt=\"Open In Colab\"/></a>"
      ]
    },
    {
      "cell_type": "code",
      "metadata": {
        "id": "QOtRF-1Dwdc9",
        "colab_type": "code",
        "colab": {}
      },
      "source": [
        "import pandas as pd\n",
        "import numpy as np"
      ],
      "execution_count": 0,
      "outputs": []
    },
    {
      "cell_type": "markdown",
      "metadata": {
        "id": "JL-GZhloGhrJ",
        "colab_type": "text"
      },
      "source": [
        "**Window functions**"
      ]
    },
    {
      "cell_type": "code",
      "metadata": {
        "id": "ERIYrVUbwujv",
        "colab_type": "code",
        "outputId": "2504f8be-15a2-408e-f7d1-4bc51beaef0d",
        "colab": {
          "base_uri": "https://localhost:8080/",
          "height": 119
        }
      },
      "source": [
        "data = {\"c1\":[1,2,3,4,5],\"c2\":[10,20,30,40,50]}\n",
        "dataframe_data = pd.DataFrame(data)\n",
        "print(dataframe_data)"
      ],
      "execution_count": 0,
      "outputs": [
        {
          "output_type": "stream",
          "text": [
            "   c1  c2\n",
            "0   1  10\n",
            "1   2  20\n",
            "2   3  30\n",
            "3   4  40\n",
            "4   5  50\n"
          ],
          "name": "stdout"
        }
      ]
    },
    {
      "cell_type": "code",
      "metadata": {
        "id": "KVXOl_euxTdD",
        "colab_type": "code",
        "outputId": "ca6ad300-c5e1-49bb-a92b-0726fe3812bc",
        "colab": {
          "base_uri": "https://localhost:8080/",
          "height": 119
        }
      },
      "source": [
        "print(dataframe_data.rolling(window = 3).sum())"
      ],
      "execution_count": 0,
      "outputs": [
        {
          "output_type": "stream",
          "text": [
            "     c1     c2\n",
            "0   NaN    NaN\n",
            "1   NaN    NaN\n",
            "2   6.0   60.0\n",
            "3   9.0   90.0\n",
            "4  12.0  120.0\n"
          ],
          "name": "stdout"
        }
      ]
    },
    {
      "cell_type": "code",
      "metadata": {
        "id": "kc3bsSSkx1q4",
        "colab_type": "code",
        "outputId": "116cddcf-9e0f-4355-d944-24fcf39e5a11",
        "colab": {
          "base_uri": "https://localhost:8080/",
          "height": 119
        }
      },
      "source": [
        "print(dataframe_data.expanding(min_periods = 3).sum())"
      ],
      "execution_count": 0,
      "outputs": [
        {
          "output_type": "stream",
          "text": [
            "     c1     c2\n",
            "0   NaN    NaN\n",
            "1   NaN    NaN\n",
            "2   6.0   60.0\n",
            "3  10.0  100.0\n",
            "4  15.0  150.0\n"
          ],
          "name": "stdout"
        }
      ]
    },
    {
      "cell_type": "code",
      "metadata": {
        "id": "hwo9GN-azRel",
        "colab_type": "code",
        "outputId": "1dedf6a3-12b9-485e-9b29-3250bfdf2102",
        "colab": {
          "base_uri": "https://localhost:8080/",
          "height": 119
        }
      },
      "source": [
        "print(dataframe_data.ewm(com = 3).mean())"
      ],
      "execution_count": 0,
      "outputs": [
        {
          "output_type": "stream",
          "text": [
            "         c1         c2\n",
            "0  1.000000  10.000000\n",
            "1  1.571429  15.714286\n",
            "2  2.189189  21.891892\n",
            "3  2.851429  28.514286\n",
            "4  3.555698  35.556978\n"
          ],
          "name": "stdout"
        }
      ]
    },
    {
      "cell_type": "markdown",
      "metadata": {
        "id": "c_9D3WgAHBtn",
        "colab_type": "text"
      },
      "source": [
        "**aggregation**"
      ]
    },
    {
      "cell_type": "code",
      "metadata": {
        "id": "4_0Zplx83PLe",
        "colab_type": "code",
        "outputId": "8d2b3d94-1a55-4edb-b278-3c39fcb960cf",
        "colab": {
          "base_uri": "https://localhost:8080/",
          "height": 34
        }
      },
      "source": [
        "rolling = dataframe_data.rolling(window = 3).sum()\n",
        "rolling['c1'].aggregate(np.sum)"
      ],
      "execution_count": 0,
      "outputs": [
        {
          "output_type": "execute_result",
          "data": {
            "text/plain": [
              "27.0"
            ]
          },
          "metadata": {
            "tags": []
          },
          "execution_count": 33
        }
      ]
    },
    {
      "cell_type": "code",
      "metadata": {
        "id": "QbD4JCU24UXi",
        "colab_type": "code",
        "outputId": "5ead7383-3363-4077-f447-21cdb1ddc99d",
        "colab": {
          "base_uri": "https://localhost:8080/",
          "height": 51
        }
      },
      "source": [
        "print(rolling.aggregate({'c2':np.mean}))"
      ],
      "execution_count": 0,
      "outputs": [
        {
          "output_type": "stream",
          "text": [
            "c2    90.0\n",
            "dtype: float64\n"
          ],
          "name": "stdout"
        }
      ]
    },
    {
      "cell_type": "markdown",
      "metadata": {
        "id": "YQ0yZ6t0Gs_f",
        "colab_type": "text"
      },
      "source": [
        "**missing  data**"
      ]
    },
    {
      "cell_type": "code",
      "metadata": {
        "id": "-zYPBG4l8w2o",
        "colab_type": "code",
        "outputId": "7056539b-7bf7-40c8-af3f-4e4ab40e5c18",
        "colab": {
          "base_uri": "https://localhost:8080/",
          "height": 187
        }
      },
      "source": [
        "missing_data = dataframe_data.reindex([0,1,2,3,4,5,6,7,8])\n",
        "print(missing_data)"
      ],
      "execution_count": 0,
      "outputs": [
        {
          "output_type": "stream",
          "text": [
            "    c1    c2\n",
            "0  1.0  10.0\n",
            "1  2.0  20.0\n",
            "2  3.0  30.0\n",
            "3  4.0  40.0\n",
            "4  5.0  50.0\n",
            "5  NaN   NaN\n",
            "6  NaN   NaN\n",
            "7  NaN   NaN\n",
            "8  NaN   NaN\n"
          ],
          "name": "stdout"
        }
      ]
    },
    {
      "cell_type": "code",
      "metadata": {
        "id": "_Mu1jzZD9vzA",
        "colab_type": "code",
        "outputId": "a3ad03db-0910-4030-8474-17c245dea104",
        "colab": {
          "base_uri": "https://localhost:8080/",
          "height": 187
        }
      },
      "source": [
        "missing_data['c1'].isnull()"
      ],
      "execution_count": 0,
      "outputs": [
        {
          "output_type": "execute_result",
          "data": {
            "text/plain": [
              "0    False\n",
              "1    False\n",
              "2    False\n",
              "3    False\n",
              "4    False\n",
              "5     True\n",
              "6     True\n",
              "7     True\n",
              "8     True\n",
              "Name: c1, dtype: bool"
            ]
          },
          "metadata": {
            "tags": []
          },
          "execution_count": 45
        }
      ]
    },
    {
      "cell_type": "code",
      "metadata": {
        "id": "E3IGTb8M-R6k",
        "colab_type": "code",
        "outputId": "0d49be5f-45ab-4789-eaa1-f372d5cd5e6d",
        "colab": {
          "base_uri": "https://localhost:8080/",
          "height": 187
        }
      },
      "source": [
        "print(missing_data['c1'].fillna(0))\n"
      ],
      "execution_count": 0,
      "outputs": [
        {
          "output_type": "stream",
          "text": [
            "0    1.0\n",
            "1    2.0\n",
            "2    3.0\n",
            "3    4.0\n",
            "4    5.0\n",
            "5    0.0\n",
            "6    0.0\n",
            "7    0.0\n",
            "8    0.0\n",
            "Name: c1, dtype: float64\n"
          ],
          "name": "stdout"
        }
      ]
    },
    {
      "cell_type": "code",
      "metadata": {
        "id": "fbvPF9ba-oTF",
        "colab_type": "code",
        "outputId": "609616f8-65c4-4927-f107-f57476ec94fd",
        "colab": {
          "base_uri": "https://localhost:8080/",
          "height": 187
        }
      },
      "source": [
        "print(missing_data['c2'].fillna(method = 'pad'))"
      ],
      "execution_count": 0,
      "outputs": [
        {
          "output_type": "stream",
          "text": [
            "0    10.0\n",
            "1    20.0\n",
            "2    30.0\n",
            "3    40.0\n",
            "4    50.0\n",
            "5    50.0\n",
            "6    50.0\n",
            "7    50.0\n",
            "8    50.0\n",
            "Name: c2, dtype: float64\n"
          ],
          "name": "stdout"
        }
      ]
    },
    {
      "cell_type": "code",
      "metadata": {
        "id": "ACtoiDlI-ufV",
        "colab_type": "code",
        "outputId": "aec21c92-2455-4458-b4a7-63fa2e8f8da2",
        "colab": {
          "base_uri": "https://localhost:8080/",
          "height": 119
        }
      },
      "source": [
        "print(missing_data['c1'].dropna())"
      ],
      "execution_count": 0,
      "outputs": [
        {
          "output_type": "stream",
          "text": [
            "0    1.0\n",
            "1    2.0\n",
            "2    3.0\n",
            "3    4.0\n",
            "4    5.0\n",
            "Name: c1, dtype: float64\n"
          ],
          "name": "stdout"
        }
      ]
    },
    {
      "cell_type": "markdown",
      "metadata": {
        "id": "LbVW4GJGHKX6",
        "colab_type": "text"
      },
      "source": [
        "**GroupBy**"
      ]
    },
    {
      "cell_type": "code",
      "metadata": {
        "id": "GVuhrw1fHHmy",
        "colab_type": "code",
        "outputId": "f5ee5c22-56d9-46d7-bd65-e2238a464d74",
        "colab": {
          "base_uri": "https://localhost:8080/",
          "height": 238
        }
      },
      "source": [
        "ipl_data = {'Team': ['Riders', 'Riders', 'Devils', 'Devils', 'Kings',\n",
        "   'kings', 'Kings', 'Kings', 'Riders', 'Royals', 'Royals', 'Riders'],\n",
        "   'Rank': [1, 2, 2, 3, 3,4 ,1 ,1,2 , 4,1,2],\n",
        "   'Year': [2014,2015,2014,2015,2014,2015,2016,2017,2016,2014,2015,2017],\n",
        "   'Points':[10,9,8,6,7,8,7,6,5,7,3,5]}\n",
        "groupby_dataframe = pd.DataFrame(ipl_data)\n",
        "print(groupby_dataframe)"
      ],
      "execution_count": 0,
      "outputs": [
        {
          "output_type": "stream",
          "text": [
            "      Team  Rank  Year  Points\n",
            "0   Riders     1  2014      10\n",
            "1   Riders     2  2015       9\n",
            "2   Devils     2  2014       8\n",
            "3   Devils     3  2015       6\n",
            "4    Kings     3  2014       7\n",
            "5    kings     4  2015       8\n",
            "6    Kings     1  2016       7\n",
            "7    Kings     1  2017       6\n",
            "8   Riders     2  2016       5\n",
            "9   Royals     4  2014       7\n",
            "10  Royals     1  2015       3\n",
            "11  Riders     2  2017       5\n"
          ],
          "name": "stdout"
        }
      ]
    },
    {
      "cell_type": "code",
      "metadata": {
        "id": "6nuxVxuZID5G",
        "colab_type": "code",
        "outputId": "10d20d3b-a9b3-4c2f-aeaf-c9c39ce24bdf",
        "colab": {
          "base_uri": "https://localhost:8080/",
          "height": 54
        }
      },
      "source": [
        "print(groupby_dataframe.groupby(['Team','Year']).groups)"
      ],
      "execution_count": 0,
      "outputs": [
        {
          "output_type": "stream",
          "text": [
            "{('Devils', 2014): Int64Index([2], dtype='int64'), ('Devils', 2015): Int64Index([3], dtype='int64'), ('Kings', 2014): Int64Index([4], dtype='int64'), ('Kings', 2016): Int64Index([6], dtype='int64'), ('Kings', 2017): Int64Index([7], dtype='int64'), ('Riders', 2014): Int64Index([0], dtype='int64'), ('Riders', 2015): Int64Index([1], dtype='int64'), ('Riders', 2016): Int64Index([8], dtype='int64'), ('Riders', 2017): Int64Index([11], dtype='int64'), ('Royals', 2014): Int64Index([9], dtype='int64'), ('Royals', 2015): Int64Index([10], dtype='int64'), ('kings', 2015): Int64Index([5], dtype='int64')}\n"
          ],
          "name": "stdout"
        }
      ]
    },
    {
      "cell_type": "code",
      "metadata": {
        "id": "IV57QdxBJCBK",
        "colab_type": "code",
        "outputId": "9c5342ea-cc66-479f-90c9-68f709c3263a",
        "colab": {
          "base_uri": "https://localhost:8080/",
          "height": 357
        }
      },
      "source": [
        "groupdf = groupby_dataframe.groupby(['Rank'])\n",
        "for name,detail in groupdf:\n",
        "  print(name)\n",
        "  print(detail)"
      ],
      "execution_count": 0,
      "outputs": [
        {
          "output_type": "stream",
          "text": [
            "1\n",
            "      Team  Rank  Year  Points\n",
            "0   Riders     1  2014      10\n",
            "6    Kings     1  2016       7\n",
            "7    Kings     1  2017       6\n",
            "10  Royals     1  2015       3\n",
            "2\n",
            "      Team  Rank  Year  Points\n",
            "1   Riders     2  2015       9\n",
            "2   Devils     2  2014       8\n",
            "8   Riders     2  2016       5\n",
            "11  Riders     2  2017       5\n",
            "3\n",
            "     Team  Rank  Year  Points\n",
            "3  Devils     3  2015       6\n",
            "4   Kings     3  2014       7\n",
            "4\n",
            "     Team  Rank  Year  Points\n",
            "5   kings     4  2015       8\n",
            "9  Royals     4  2014       7\n"
          ],
          "name": "stdout"
        }
      ]
    },
    {
      "cell_type": "code",
      "metadata": {
        "id": "xSLsm5o9J4Ui",
        "colab_type": "code",
        "outputId": "38b60eaf-b425-4cdc-f4f7-07a275403433",
        "colab": {
          "base_uri": "https://localhost:8080/",
          "height": 102
        }
      },
      "source": [
        "groupdf2 = groupby_dataframe.groupby('Year')\n",
        "print(groupdf2.get_group(2015))"
      ],
      "execution_count": 0,
      "outputs": [
        {
          "output_type": "stream",
          "text": [
            "      Team  Rank  Year  Points\n",
            "1   Riders     2  2015       9\n",
            "3   Devils     3  2015       6\n",
            "5    kings     4  2015       8\n",
            "10  Royals     1  2015       3\n"
          ],
          "name": "stdout"
        }
      ]
    },
    {
      "cell_type": "code",
      "metadata": {
        "id": "ZcnWmBNvLKB_",
        "colab_type": "code",
        "outputId": "e4580e67-718b-4447-deca-fb09162a9c6e",
        "colab": {
          "base_uri": "https://localhost:8080/",
          "height": 119
        }
      },
      "source": [
        "print(groupdf2.agg(np.size))"
      ],
      "execution_count": 0,
      "outputs": [
        {
          "output_type": "stream",
          "text": [
            "      Team  Rank  Points\n",
            "Year                    \n",
            "2014     4     4       4\n",
            "2015     4     4       4\n",
            "2016     2     2       2\n",
            "2017     2     2       2\n"
          ],
          "name": "stdout"
        }
      ]
    },
    {
      "cell_type": "code",
      "metadata": {
        "id": "tmIqa4hoLzru",
        "colab_type": "code",
        "outputId": "92768e4e-502e-4fa9-e295-990243385e15",
        "colab": {
          "base_uri": "https://localhost:8080/",
          "height": 170
        }
      },
      "source": [
        "groupdf3 = groupby_dataframe.groupby('Points')\n",
        "print(groupdf3['Rank'].agg([np.mean,np.sum]))"
      ],
      "execution_count": 0,
      "outputs": [
        {
          "output_type": "stream",
          "text": [
            "            mean  sum\n",
            "Points               \n",
            "3       1.000000    1\n",
            "5       2.000000    4\n",
            "6       2.000000    4\n",
            "7       2.666667    8\n",
            "8       3.000000    6\n",
            "9       2.000000    2\n",
            "10      1.000000    1\n"
          ],
          "name": "stdout"
        }
      ]
    },
    {
      "cell_type": "code",
      "metadata": {
        "id": "fdpgXqJFN-7W",
        "colab_type": "code",
        "outputId": "5135eb53-3c5d-49ec-d8cf-7de949a94d5c",
        "colab": {
          "base_uri": "https://localhost:8080/",
          "height": 238
        }
      },
      "source": [
        "print(groupdf3.transform(lambda x: (x+x)))"
      ],
      "execution_count": 0,
      "outputs": [
        {
          "output_type": "stream",
          "text": [
            "            Team  Rank  Year\n",
            "0   RidersRiders     2  4028\n",
            "1   RidersRiders     4  4030\n",
            "2   DevilsDevils     4  4028\n",
            "3   DevilsDevils     6  4030\n",
            "4     KingsKings     6  4028\n",
            "5     kingskings     8  4030\n",
            "6     KingsKings     2  4032\n",
            "7     KingsKings     2  4034\n",
            "8   RidersRiders     4  4032\n",
            "9   RoyalsRoyals     8  4028\n",
            "10  RoyalsRoyals     2  4030\n",
            "11  RidersRiders     4  4034\n"
          ],
          "name": "stdout"
        }
      ]
    },
    {
      "cell_type": "code",
      "metadata": {
        "id": "rfWOk1m8O4hL",
        "colab_type": "code",
        "outputId": "e7e4e216-35a7-424a-ea5a-87be9c6caca4",
        "colab": {
          "base_uri": "https://localhost:8080/",
          "height": 170
        }
      },
      "source": [
        "print(groupdf2.filter(lambda x: len(x)>2))"
      ],
      "execution_count": 0,
      "outputs": [
        {
          "output_type": "stream",
          "text": [
            "      Team  Rank  Year  Points\n",
            "0   Riders     1  2014      10\n",
            "1   Riders     2  2015       9\n",
            "2   Devils     2  2014       8\n",
            "3   Devils     3  2015       6\n",
            "4    Kings     3  2014       7\n",
            "5    kings     4  2015       8\n",
            "9   Royals     4  2014       7\n",
            "10  Royals     1  2015       3\n"
          ],
          "name": "stdout"
        }
      ]
    }
  ]
}