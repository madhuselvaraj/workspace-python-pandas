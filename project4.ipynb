{
  "nbformat": 4,
  "nbformat_minor": 0,
  "metadata": {
    "colab": {
      "name": "project4.ipynb",
      "version": "0.3.2",
      "provenance": [],
      "collapsed_sections": [],
      "include_colab_link": true
    },
    "kernelspec": {
      "name": "python3",
      "display_name": "Python 3"
    }
  },
  "cells": [
    {
      "cell_type": "markdown",
      "metadata": {
        "id": "view-in-github",
        "colab_type": "text"
      },
      "source": [
        "<a href=\"https://colab.research.google.com/github/madhuselvaraj/workspace-python-pandas/blob/master/project4.ipynb\" target=\"_parent\"><img src=\"https://colab.research.google.com/assets/colab-badge.svg\" alt=\"Open In Colab\"/></a>"
      ]
    },
    {
      "cell_type": "markdown",
      "metadata": {
        "id": "UxrhFbAx3Sga",
        "colab_type": "text"
      },
      "source": [
        "#PROJECT 4\n",
        "Heading: Pandas\n",
        "\n",
        "Topics covered:\n",
        "\n",
        "\n",
        "1.   Working with text data       ----->str.[islower(),lower(),replace(),count()]\n",
        "2.   Indexing & Selecting data  ----->loc()\n",
        "3.   statistical function              -----> rank()\n",
        "\n",
        "concept: create an output of customer details and username."
      ]
    },
    {
      "cell_type": "markdown",
      "metadata": {
        "id": "hmE0N_6-0dam",
        "colab_type": "text"
      },
      "source": [
        "|input: |output|\n",
        "--------|-------|\n",
        "|                         | Customer Details username|\n",
        "0       arya@gmail.com | 0     arya@gmail.com  arya|\n",
        "1    Bailesh@gmail.com| 1    Bailesh@gmail.com  bailesh|\n",
        "2      CERSI@gmail.com| 2    cersi@gmail.com    cersi |\n",
        "3     Danial@gmail.com| 3   danial@gmail.com   danial\n",
        "4    Bailesh@gmail.com|4  bailesh@gmail.com  bailesh"
      ]
    },
    {
      "cell_type": "code",
      "metadata": {
        "id": "_rv_Dwz4T5uB",
        "colab_type": "code",
        "colab": {}
      },
      "source": [
        "import pandas as pd\n",
        "import numpy as np"
      ],
      "execution_count": 0,
      "outputs": []
    },
    {
      "cell_type": "code",
      "metadata": {
        "id": "eTGpELhJUbDn",
        "colab_type": "code",
        "colab": {}
      },
      "source": [
        "data_form_details = pd.Series([\"arya@gmail.com\",\"Bailesh@gmail.com\",\"CERSI@gmail.com\",\"Danial@gmail.com\",\"Bailesh@gmail.com\"])"
      ],
      "execution_count": 0,
      "outputs": []
    },
    {
      "cell_type": "code",
      "metadata": {
        "id": "fg3SVHSXYlZ8",
        "colab_type": "code",
        "colab": {
          "base_uri": "https://localhost:8080/",
          "height": 126
        },
        "outputId": "47ed3048-4763-477e-ce2f-e26469fe6f45"
      },
      "source": [
        "print(data_form_details)"
      ],
      "execution_count": 7,
      "outputs": [
        {
          "output_type": "stream",
          "text": [
            "0       arya@gmail.com\n",
            "1    Bailesh@gmail.com\n",
            "2      CERSI@gmail.com\n",
            "3     Danial@gmail.com\n",
            "4    Bailesh@gmail.com\n",
            "dtype: object\n"
          ],
          "name": "stdout"
        }
      ]
    },
    {
      "cell_type": "markdown",
      "metadata": {
        "id": "lOKyKFfd2Kf3",
        "colab_type": "text"
      },
      "source": [
        "checking for lowercase letters"
      ]
    },
    {
      "cell_type": "code",
      "metadata": {
        "id": "ismDdf4_YqP6",
        "colab_type": "code",
        "colab": {
          "base_uri": "https://localhost:8080/",
          "height": 126
        },
        "outputId": "fffd7c98-11e1-4fe0-9cff-9fbc3cb189cd"
      },
      "source": [
        "print(data_form_details.str.islower())"
      ],
      "execution_count": 8,
      "outputs": [
        {
          "output_type": "stream",
          "text": [
            "0     True\n",
            "1    False\n",
            "2    False\n",
            "3    False\n",
            "4    False\n",
            "dtype: bool\n"
          ],
          "name": "stdout"
        }
      ]
    },
    {
      "cell_type": "markdown",
      "metadata": {
        "id": "IO20-z_l2e86",
        "colab_type": "text"
      },
      "source": [
        "changing to lowercase letters"
      ]
    },
    {
      "cell_type": "code",
      "metadata": {
        "id": "E3_HJpZ_ZroT",
        "colab_type": "code",
        "colab": {}
      },
      "source": [
        "data_form_details = data_form_details.str.lower()"
      ],
      "execution_count": 0,
      "outputs": []
    },
    {
      "cell_type": "code",
      "metadata": {
        "id": "_j_arPvRZxUv",
        "colab_type": "code",
        "colab": {
          "base_uri": "https://localhost:8080/",
          "height": 126
        },
        "outputId": "9327217e-e200-433d-d42c-939279f6a1a9"
      },
      "source": [
        "print(data_form_details)"
      ],
      "execution_count": 20,
      "outputs": [
        {
          "output_type": "stream",
          "text": [
            "0       arya@gmail.com\n",
            "1    bailesh@gmail.com\n",
            "2      cersi@gmail.com\n",
            "3     danial@gmail.com\n",
            "4    bailesh@gmail.com\n",
            "dtype: object\n"
          ],
          "name": "stdout"
        }
      ]
    },
    {
      "cell_type": "code",
      "metadata": {
        "id": "uHzp0i3sZ_Jg",
        "colab_type": "code",
        "colab": {
          "base_uri": "https://localhost:8080/",
          "height": 126
        },
        "outputId": "6d9d0ebb-e5cf-4513-b322-79dd6dc660c0"
      },
      "source": [
        "print(data_form_details.str.islower())"
      ],
      "execution_count": 17,
      "outputs": [
        {
          "output_type": "stream",
          "text": [
            "0    True\n",
            "1    True\n",
            "2    True\n",
            "3    True\n",
            "4    True\n",
            "dtype: bool\n"
          ],
          "name": "stdout"
        }
      ]
    },
    {
      "cell_type": "markdown",
      "metadata": {
        "id": "AFRhZnnL2nGi",
        "colab_type": "text"
      },
      "source": [
        "creating user name from mail ids"
      ]
    },
    {
      "cell_type": "code",
      "metadata": {
        "id": "pjnfycLUacv_",
        "colab_type": "code",
        "colab": {}
      },
      "source": [
        "data_user_details  = data_form_details.str.replace('@gmail.com','')\n"
      ],
      "execution_count": 0,
      "outputs": []
    },
    {
      "cell_type": "code",
      "metadata": {
        "id": "ihiiwkwCcxkr",
        "colab_type": "code",
        "colab": {
          "base_uri": "https://localhost:8080/",
          "height": 35
        },
        "outputId": "56f04caa-52d2-403a-825b-e27a9c7e8055"
      },
      "source": [
        "array_data_user_details = []\n",
        "count = data_user_details.count()\n",
        "for i in range(count):\n",
        "  array_data_user_details.append(data_user_details[i])"
      ],
      "execution_count": 52,
      "outputs": [
        {
          "output_type": "stream",
          "text": [
            "['arya', 'bailesh', 'cersi', 'danial', 'bailesh']\n"
          ],
          "name": "stdout"
        }
      ]
    },
    {
      "cell_type": "code",
      "metadata": {
        "id": "duVEzZIevyr2",
        "colab_type": "code",
        "colab": {}
      },
      "source": [
        "dataframe_form_details = pd.DataFrame(data_form_details,columns = ['Customer Details'])"
      ],
      "execution_count": 0,
      "outputs": []
    },
    {
      "cell_type": "code",
      "metadata": {
        "id": "yqtL4WaOwdLe",
        "colab_type": "code",
        "colab": {}
      },
      "source": [
        "dataframe_form_details['username'] = pd.Series(array_data_user_details)"
      ],
      "execution_count": 0,
      "outputs": []
    },
    {
      "cell_type": "markdown",
      "metadata": {
        "id": "fnK5jQtM2ttB",
        "colab_type": "text"
      },
      "source": [
        "retrieving first three username"
      ]
    },
    {
      "cell_type": "code",
      "metadata": {
        "id": "lRrav_-cwZx5",
        "colab_type": "code",
        "colab": {
          "base_uri": "https://localhost:8080/",
          "height": 90
        },
        "outputId": "3900ed03-a24f-4025-c2ea-0ea2b394b4ca"
      },
      "source": [
        "print(dataframe_form_details.loc[:2,'username'])"
      ],
      "execution_count": 64,
      "outputs": [
        {
          "output_type": "stream",
          "text": [
            "0       arya\n",
            "1    bailesh\n",
            "2      cersi\n",
            "Name: username, dtype: object\n"
          ],
          "name": "stdout"
        }
      ]
    },
    {
      "cell_type": "markdown",
      "metadata": {
        "id": "s9_0SRDV21E2",
        "colab_type": "text"
      },
      "source": [
        "ranking with a dataframe of duplicate name of indexes 1 & 4"
      ]
    },
    {
      "cell_type": "code",
      "metadata": {
        "id": "8lyPRosoyMr9",
        "colab_type": "code",
        "colab": {
          "base_uri": "https://localhost:8080/",
          "height": 126
        },
        "outputId": "3cd8ab86-8ede-4573-bcb0-8a352c0b5efd"
      },
      "source": [
        "print(dataframe_form_details.rank(method = 'max'))"
      ],
      "execution_count": 81,
      "outputs": [
        {
          "output_type": "stream",
          "text": [
            "   Customer Details  username\n",
            "0               1.0       1.0\n",
            "1               3.0       3.0\n",
            "2               4.0       4.0\n",
            "3               5.0       5.0\n",
            "4               3.0       3.0\n"
          ],
          "name": "stdout"
        }
      ]
    },
    {
      "cell_type": "markdown",
      "metadata": {
        "id": "VLh1v8Bt3E5d",
        "colab_type": "text"
      },
      "source": [
        "ranking without duplicate index a dataframe"
      ]
    },
    {
      "cell_type": "code",
      "metadata": {
        "id": "n1WnXdgszMXs",
        "colab_type": "code",
        "colab": {
          "base_uri": "https://localhost:8080/",
          "height": 108
        },
        "outputId": "734d3796-51fe-4aac-f089-aadd59b3f268"
      },
      "source": [
        "print((dataframe_form_details.drop(4)).rank(method = 'max'))"
      ],
      "execution_count": 82,
      "outputs": [
        {
          "output_type": "stream",
          "text": [
            "   Customer Details  username\n",
            "0               1.0       1.0\n",
            "1               2.0       2.0\n",
            "2               3.0       3.0\n",
            "3               4.0       4.0\n"
          ],
          "name": "stdout"
        }
      ]
    },
    {
      "cell_type": "markdown",
      "metadata": {
        "id": "Z5Q8bl6z3L7e",
        "colab_type": "text"
      },
      "source": [
        "output"
      ]
    },
    {
      "cell_type": "code",
      "metadata": {
        "id": "s7cJqFB905vZ",
        "colab_type": "code",
        "colab": {
          "base_uri": "https://localhost:8080/",
          "height": 126
        },
        "outputId": "d0ef622e-4e80-4402-86b9-5ca61946a85b"
      },
      "source": [
        "print(dataframe_form_details)"
      ],
      "execution_count": 83,
      "outputs": [
        {
          "output_type": "stream",
          "text": [
            "    Customer Details username\n",
            "0     arya@gmail.com     arya\n",
            "1  bailesh@gmail.com  bailesh\n",
            "2    cersi@gmail.com    cersi\n",
            "3   danial@gmail.com   danial\n",
            "4  bailesh@gmail.com  bailesh\n"
          ],
          "name": "stdout"
        }
      ]
    }
  ]
}