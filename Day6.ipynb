{
  "nbformat": 4,
  "nbformat_minor": 0,
  "metadata": {
    "colab": {
      "name": "Day6.ipynb",
      "version": "0.3.2",
      "provenance": [],
      "collapsed_sections": [],
      "include_colab_link": true
    },
    "kernelspec": {
      "name": "python3",
      "display_name": "Python 3"
    }
  },
  "cells": [
    {
      "cell_type": "markdown",
      "metadata": {
        "id": "view-in-github",
        "colab_type": "text"
      },
      "source": [
        "<a href=\"https://colab.research.google.com/github/madhuselvaraj/workspace-python-pandas/blob/master/Day6.ipynb\" target=\"_parent\"><img src=\"https://colab.research.google.com/assets/colab-badge.svg\" alt=\"Open In Colab\"/></a>"
      ]
    },
    {
      "cell_type": "code",
      "metadata": {
        "id": "wOWcKuieZZtw",
        "colab_type": "code",
        "colab": {}
      },
      "source": [
        "import pandas as pd\n",
        "import numpy as np"
      ],
      "execution_count": 0,
      "outputs": []
    },
    {
      "cell_type": "markdown",
      "metadata": {
        "id": "6cpL-cTthx0z",
        "colab_type": "text"
      },
      "source": [
        "**Merging**"
      ]
    },
    {
      "cell_type": "code",
      "metadata": {
        "id": "QWHqin-oZjSu",
        "colab_type": "code",
        "colab": {}
      },
      "source": [
        "data_merging1 = {\"num\":pd.Series([1,2,3,4,5,7]),\n",
        "                \"id\":pd.Series([\"no1\",\"no2\",\"no3\",\"no4\",\"no5\",\"no7\"])}\n",
        "df_data1 =pd.DataFrame(data_merging1)"
      ],
      "execution_count": 0,
      "outputs": []
    },
    {
      "cell_type": "code",
      "metadata": {
        "id": "ga976bHzadY6",
        "colab_type": "code",
        "colab": {}
      },
      "source": [
        "data_merging2 = {\"num\":pd.Series([\"one\",\"two\",\"three\",\"four\",\"five\",\"six\"]),\n",
        "                \"id\":pd.Series([\"no1\",\"no2\",\"no3\",\"no4\",\"no5\",\"no6\"])}\n",
        "df_data2 =pd.DataFrame(data_merging2)"
      ],
      "execution_count": 0,
      "outputs": []
    },
    {
      "cell_type": "code",
      "metadata": {
        "id": "VH5rs6tFaaLB",
        "colab_type": "code",
        "outputId": "c27c7b72-1002-4b6c-80b5-a8ff62e917d2",
        "colab": {
          "base_uri": "https://localhost:8080/",
          "height": 255
        }
      },
      "source": [
        "print(df_data1)\n",
        "print(df_data2)"
      ],
      "execution_count": 0,
      "outputs": [
        {
          "output_type": "stream",
          "text": [
            "   num   id\n",
            "0    1  no1\n",
            "1    2  no2\n",
            "2    3  no3\n",
            "3    4  no4\n",
            "4    5  no5\n",
            "5    7  no7\n",
            "     num   id\n",
            "0    one  no1\n",
            "1    two  no2\n",
            "2  three  no3\n",
            "3   four  no4\n",
            "4   five  no5\n",
            "5    six  no6\n"
          ],
          "name": "stdout"
        }
      ]
    },
    {
      "cell_type": "code",
      "metadata": {
        "id": "dRpVZTU6a3Ac",
        "colab_type": "code",
        "outputId": "fdbc7362-b92c-447c-a139-5bb8acfe33d6",
        "colab": {
          "base_uri": "https://localhost:8080/",
          "height": 136
        }
      },
      "source": [
        "print(pd.merge(df_data1,df_data2,on =[\"id\"],how = \"right\"))"
      ],
      "execution_count": 0,
      "outputs": [
        {
          "output_type": "stream",
          "text": [
            "   num_x   id  num_y\n",
            "0    1.0  no1    one\n",
            "1    2.0  no2    two\n",
            "2    3.0  no3  three\n",
            "3    4.0  no4   four\n",
            "4    5.0  no5   five\n",
            "5    NaN  no6    six\n"
          ],
          "name": "stdout"
        }
      ]
    },
    {
      "cell_type": "code",
      "metadata": {
        "id": "YWs_iLficfSy",
        "colab_type": "code",
        "outputId": "6c7da7c1-02ca-4de3-c6d0-7431de4080de",
        "colab": {
          "base_uri": "https://localhost:8080/",
          "height": 153
        }
      },
      "source": [
        "print(pd.merge(df_data1,df_data2,on =[\"id\"],how = \"outer\"))"
      ],
      "execution_count": 0,
      "outputs": [
        {
          "output_type": "stream",
          "text": [
            "   num_x   id  num_y\n",
            "0    1.0  no1    one\n",
            "1    2.0  no2    two\n",
            "2    3.0  no3  three\n",
            "3    4.0  no4   four\n",
            "4    5.0  no5   five\n",
            "5    7.0  no7    NaN\n",
            "6    NaN  no6    six\n"
          ],
          "name": "stdout"
        }
      ]
    },
    {
      "cell_type": "code",
      "metadata": {
        "id": "ymci3dCYco3l",
        "colab_type": "code",
        "outputId": "d327f1c6-2aee-48c1-cd25-528a30555d32",
        "colab": {
          "base_uri": "https://localhost:8080/",
          "height": 119
        }
      },
      "source": [
        "merge = pd.merge(df_data1,df_data2,on = \"id\",how = \"inner\")\n",
        "print(merge)"
      ],
      "execution_count": 0,
      "outputs": [
        {
          "output_type": "stream",
          "text": [
            "   num_x   id  num_y\n",
            "0      1  no1    one\n",
            "1      2  no2    two\n",
            "2      3  no3  three\n",
            "3      4  no4   four\n",
            "4      5  no5   five\n"
          ],
          "name": "stdout"
        }
      ]
    },
    {
      "cell_type": "markdown",
      "metadata": {
        "id": "aHhCbNk7h212",
        "colab_type": "text"
      },
      "source": [
        "**Concatenation**"
      ]
    },
    {
      "cell_type": "code",
      "metadata": {
        "id": "MPyPgI07h8MG",
        "colab_type": "code",
        "outputId": "2cdd5695-7252-437f-aea5-93998eaa19cf",
        "colab": {
          "base_uri": "https://localhost:8080/",
          "height": 238
        }
      },
      "source": [
        "print(pd.concat([df_data1,df_data2],ignore_index = True))"
      ],
      "execution_count": 0,
      "outputs": [
        {
          "output_type": "stream",
          "text": [
            "      num   id\n",
            "0       1  no1\n",
            "1       2  no2\n",
            "2       3  no3\n",
            "3       4  no4\n",
            "4       5  no5\n",
            "5       7  no7\n",
            "6     one  no1\n",
            "7     two  no2\n",
            "8   three  no3\n",
            "9    four  no4\n",
            "10   five  no5\n",
            "11    six  no6\n"
          ],
          "name": "stdout"
        }
      ]
    },
    {
      "cell_type": "code",
      "metadata": {
        "id": "iRIi8Ic_inUN",
        "colab_type": "code",
        "outputId": "300865f2-99d5-40fa-fd24-85754e9c5af5",
        "colab": {
          "base_uri": "https://localhost:8080/",
          "height": 102
        }
      },
      "source": [
        "data3 = {\"number\":pd.Series([11,12,13,14]),\n",
        "        \"id\":pd.Series([\"no11\",\"no12\",\"no13\",\"no14\"])}\n",
        "df_data3 = pd.DataFrame(data3)\n",
        "print(df_data3)"
      ],
      "execution_count": 0,
      "outputs": [
        {
          "output_type": "stream",
          "text": [
            "   number    id\n",
            "0      11  no11\n",
            "1      12  no12\n",
            "2      13  no13\n",
            "3      14  no14\n"
          ],
          "name": "stdout"
        }
      ]
    },
    {
      "cell_type": "code",
      "metadata": {
        "id": "QyVD3VQ9jU4O",
        "colab_type": "code",
        "outputId": "6187b8b5-45a6-458a-ee42-d0cd1b408486",
        "colab": {
          "base_uri": "https://localhost:8080/",
          "height": 204
        }
      },
      "source": [
        "print(pd.concat([df_data1,df_data3],keys = ['1st','3rd'],sort = False))"
      ],
      "execution_count": 0,
      "outputs": [
        {
          "output_type": "stream",
          "text": [
            "       num    id  number\n",
            "1st 0  1.0   no1     NaN\n",
            "    1  2.0   no2     NaN\n",
            "    2  3.0   no3     NaN\n",
            "    3  4.0   no4     NaN\n",
            "    4  5.0   no5     NaN\n",
            "    5  7.0   no7     NaN\n",
            "3rd 0  NaN  no11    11.0\n",
            "    1  NaN  no12    12.0\n",
            "    2  NaN  no13    13.0\n",
            "    3  NaN  no14    14.0\n"
          ],
          "name": "stdout"
        }
      ]
    },
    {
      "cell_type": "code",
      "metadata": {
        "id": "ZCLBkC02kaNX",
        "colab_type": "code",
        "outputId": "2c435f04-ab49-42c9-e1cc-89d326a0e6a0",
        "colab": {
          "base_uri": "https://localhost:8080/",
          "height": 136
        }
      },
      "source": [
        "print(pd.concat([df_data2,df_data3],axis = 1))"
      ],
      "execution_count": 0,
      "outputs": [
        {
          "output_type": "stream",
          "text": [
            "     num   id  number    id\n",
            "0    one  no1    11.0  no11\n",
            "1    two  no2    12.0  no12\n",
            "2  three  no3    13.0  no13\n",
            "3   four  no4    14.0  no14\n",
            "4   five  no5     NaN   NaN\n",
            "5    six  no6     NaN   NaN\n"
          ],
          "name": "stdout"
        }
      ]
    },
    {
      "cell_type": "markdown",
      "metadata": {
        "id": "CoUIz3NdlPXG",
        "colab_type": "text"
      },
      "source": [
        "**Time Series**"
      ]
    },
    {
      "cell_type": "code",
      "metadata": {
        "id": "daijoCqNlcti",
        "colab_type": "code",
        "outputId": "b6ec7a33-24a8-4cb3-994b-cdfd34c9a675",
        "colab": {
          "base_uri": "https://localhost:8080/",
          "height": 34
        }
      },
      "source": [
        "print(pd.datetime.now())"
      ],
      "execution_count": 0,
      "outputs": [
        {
          "output_type": "stream",
          "text": [
            "2019-06-01 05:50:43.621601\n"
          ],
          "name": "stdout"
        }
      ]
    },
    {
      "cell_type": "code",
      "metadata": {
        "id": "EVx4YOZTl35z",
        "colab_type": "code",
        "outputId": "c4996d88-e277-4773-abea-5b6b1fd78321",
        "colab": {
          "base_uri": "https://localhost:8080/",
          "height": 35
        }
      },
      "source": [
        "print(pd.Timestamp('2019-05-05'))"
      ],
      "execution_count": 0,
      "outputs": [
        {
          "output_type": "stream",
          "text": [
            "2019-05-05 00:00:00\n"
          ],
          "name": "stdout"
        }
      ]
    },
    {
      "cell_type": "code",
      "metadata": {
        "id": "9uR5OsnqqhIp",
        "colab_type": "code",
        "outputId": "3f326488-a1d9-471e-c69e-785bdf3949e0",
        "colab": {
          "base_uri": "https://localhost:8080/",
          "height": 54
        }
      },
      "source": [
        "print(pd.date_range('10:00','12:00',freq = '30min').time)"
      ],
      "execution_count": 0,
      "outputs": [
        {
          "output_type": "stream",
          "text": [
            "[datetime.time(10, 0) datetime.time(10, 30) datetime.time(11, 0)\n",
            " datetime.time(11, 30) datetime.time(12, 0)]\n"
          ],
          "name": "stdout"
        }
      ]
    },
    {
      "cell_type": "code",
      "metadata": {
        "id": "e-Eb7WLrt1ry",
        "colab_type": "code",
        "outputId": "c25c5008-4389-42a8-a13f-bb06673ca26f",
        "colab": {
          "base_uri": "https://localhost:8080/",
          "height": 72
        }
      },
      "source": [
        "print(pd.date_range('2019-06-01','2019-12-02',freq = 'm'))"
      ],
      "execution_count": 0,
      "outputs": [
        {
          "output_type": "stream",
          "text": [
            "DatetimeIndex(['2019-06-30', '2019-07-31', '2019-08-31', '2019-09-30',\n",
            "               '2019-10-31', '2019-11-30'],\n",
            "              dtype='datetime64[ns]', freq='M')\n"
          ],
          "name": "stdout"
        }
      ]
    },
    {
      "cell_type": "markdown",
      "metadata": {
        "id": "62nBFrdoy4XD",
        "colab_type": "text"
      },
      "source": [
        "**Date function**"
      ]
    },
    {
      "cell_type": "code",
      "metadata": {
        "id": "iOR0vzbyy_eA",
        "colab_type": "code",
        "outputId": "c18ef8bf-51c0-4e74-daa8-13eff7c4f355",
        "colab": {
          "base_uri": "https://localhost:8080/",
          "height": 72
        }
      },
      "source": [
        "print(pd.bdate_range('05-31-2019',periods = 7))"
      ],
      "execution_count": 0,
      "outputs": [
        {
          "output_type": "stream",
          "text": [
            "DatetimeIndex(['2019-05-31', '2019-06-03', '2019-06-04', '2019-06-05',\n",
            "               '2019-06-06', '2019-06-07', '2019-06-10'],\n",
            "              dtype='datetime64[ns]', freq='B')\n"
          ],
          "name": "stdout"
        }
      ]
    },
    {
      "cell_type": "markdown",
      "metadata": {
        "id": "cisFIvc01P1z",
        "colab_type": "text"
      },
      "source": [
        "**TimeDelta**"
      ]
    },
    {
      "cell_type": "code",
      "metadata": {
        "id": "IWYxbygBH-lL",
        "colab_type": "code",
        "outputId": "44b5dcf5-2fc9-4e95-9e85-015407acecb2",
        "colab": {
          "base_uri": "https://localhost:8080/",
          "height": 35
        }
      },
      "source": [
        "print(pd.Timedelta(73,unit = 'h'))"
      ],
      "execution_count": 0,
      "outputs": [
        {
          "output_type": "stream",
          "text": [
            "3 days 01:00:00\n"
          ],
          "name": "stdout"
        }
      ]
    },
    {
      "cell_type": "code",
      "metadata": {
        "id": "7BFUOukmJO8H",
        "colab_type": "code",
        "outputId": "cefabff6-1959-442f-c77a-2a8e0cac1741",
        "colab": {
          "base_uri": "https://localhost:8080/",
          "height": 145
        }
      },
      "source": [
        "date = pd.Series(pd.date_range('2019-05-05','2019-05-10',freq = 'd'))\n",
        "day = pd.Series(pd.Timedelta(days = i)for i in range(6))\n",
        "df_days = pd.DataFrame({'c1':date,'c2':day})\n",
        "print(df_days)"
      ],
      "execution_count": 0,
      "outputs": [
        {
          "output_type": "stream",
          "text": [
            "          c1     c2\n",
            "0 2019-05-05 0 days\n",
            "1 2019-05-06 1 days\n",
            "2 2019-05-07 2 days\n",
            "3 2019-05-08 3 days\n",
            "4 2019-05-09 4 days\n",
            "5 2019-05-10 5 days\n"
          ],
          "name": "stdout"
        }
      ]
    },
    {
      "cell_type": "code",
      "metadata": {
        "id": "x_kZhitcMi0c",
        "colab_type": "code",
        "outputId": "795122d3-b809-41b0-a708-d2735fdc689f",
        "colab": {
          "base_uri": "https://localhost:8080/",
          "height": 145
        }
      },
      "source": [
        "df_days['c3'] = df_days['c1'] - df_days['c2']\n",
        "print(df_days)"
      ],
      "execution_count": 0,
      "outputs": [
        {
          "output_type": "stream",
          "text": [
            "          c1     c2         c3\n",
            "0 2019-05-05 0 days 2019-05-05\n",
            "1 2019-05-06 1 days 2019-05-05\n",
            "2 2019-05-07 2 days 2019-05-05\n",
            "3 2019-05-08 3 days 2019-05-05\n",
            "4 2019-05-09 4 days 2019-05-05\n",
            "5 2019-05-10 5 days 2019-05-05\n"
          ],
          "name": "stdout"
        }
      ]
    }
  ]
}