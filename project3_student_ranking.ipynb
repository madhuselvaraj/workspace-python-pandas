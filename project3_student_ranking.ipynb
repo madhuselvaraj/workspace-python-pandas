{
  "nbformat": 4,
  "nbformat_minor": 0,
  "metadata": {
    "colab": {
      "name": "project3_student ranking",
      "version": "0.3.2",
      "provenance": [],
      "collapsed_sections": [],
      "include_colab_link": true
    },
    "kernelspec": {
      "name": "python3",
      "display_name": "Python 3"
    }
  },
  "cells": [
    {
      "cell_type": "markdown",
      "metadata": {
        "id": "view-in-github",
        "colab_type": "text"
      },
      "source": [
        "<a href=\"https://colab.research.google.com/github/madhuselvaraj/workspace-python-pandas/blob/master/project3_student_ranking.ipynb\" target=\"_parent\"><img src=\"https://colab.research.google.com/assets/colab-badge.svg\" alt=\"Open In Colab\"/></a>"
      ]
    },
    {
      "cell_type": "markdown",
      "metadata": {
        "id": "Ymu63T4N7atS",
        "colab_type": "text"
      },
      "source": [
        "#Project 3 - Student Ranking\n",
        "\n",
        "**Heading**: Pandas\n",
        "\n",
        "**Topics covered**: Reindexing -- rename() \n",
        "                                     Iterration -- iterrows()\n",
        "                                     Sorting -- sort_values()\n",
        "\n",
        "**concept**: predict names of top 3 ranked students\n",
        "                        generate a list based on Marks\n",
        "\n",
        "Here ,we are going to create astudents list with first 3 ranks and list of students based on their Marks"
      ]
    },
    {
      "cell_type": "markdown",
      "metadata": {
        "id": "TPxZ32N04Qtb",
        "colab_type": "text"
      },
      "source": [
        "Students Name|Gender | Marks|\n",
        "--|--|--|\n",
        "aruna| F| 87\n",
        "blob| M| 67\n",
        "zara| F| 89\n",
        "olivia| F| 84\n",
        "cat|F| 99\n",
        "tywin|M| 23\n",
        "dragos|M| 45\n",
        "minkin|M| 67\n",
        "cersi|F| 54\n",
        "felina|F| 45\n",
        "\n",
        "Rank1: cat\n",
        "\n",
        "Rank2: zara\n",
        "\n",
        "Rank3: aruna\n",
        "\n",
        "<------------------------------------>\n",
        "\n",
        "students list in the rank order:\n",
        "\n",
        "cat\n",
        "\n",
        "zara\n",
        "\n",
        "aruna\n",
        "\n",
        "olivia\n",
        "\n",
        "blob\n",
        "\n",
        "minkin\n",
        "\n",
        "cersi\n",
        "\n",
        "dragos\n",
        "\n",
        "felina\n",
        "\n",
        "tywin"
      ]
    },
    {
      "cell_type": "code",
      "metadata": {
        "id": "yZEwQrJ53c-U",
        "colab_type": "code",
        "colab": {}
      },
      "source": [
        "import pandas as pd\n",
        "import numpy as np"
      ],
      "execution_count": 0,
      "outputs": []
    },
    {
      "cell_type": "markdown",
      "metadata": {
        "id": "F_jQMa4K6AJ0",
        "colab_type": "text"
      },
      "source": [
        "create a dataframe of student details"
      ]
    },
    {
      "cell_type": "code",
      "metadata": {
        "id": "91Jpy46I3wFp",
        "colab_type": "code",
        "colab": {}
      },
      "source": [
        "students_data = {\"name\":pd.Series([\"aruna\",\"blob\",\"zara\",\"olivia\",\"cat\",\"tywin\",\"dragos\",\"minkin\",\"cersi\",\"felina\"]),\n",
        "                 \"Gender\":pd.Series([\"F\",\"M\",\"F\",\"F\",\"F\",\"M\",\"M\",\"M\",\"F\",\"F\"]),\n",
        "                  \"marks\":pd.Series([87,67,89,84,99,23,45,67,54,45])}\n",
        "student_df = pd.DataFrame(students_data)"
      ],
      "execution_count": 0,
      "outputs": []
    },
    {
      "cell_type": "markdown",
      "metadata": {
        "id": "KdgLnW4z6HJ4",
        "colab_type": "text"
      },
      "source": [
        "dataframe output"
      ]
    },
    {
      "cell_type": "code",
      "metadata": {
        "id": "fNivfR0v568e",
        "colab_type": "code",
        "outputId": "0dc6c0b2-a690-4719-99bb-beb0fa241e6c",
        "colab": {
          "base_uri": "https://localhost:8080/",
          "height": 204
        }
      },
      "source": [
        "print(student_df)"
      ],
      "execution_count": 82,
      "outputs": [
        {
          "output_type": "stream",
          "text": [
            "     name Gender  marks\n",
            "0   aruna      F     87\n",
            "1    blob      M     67\n",
            "2    zara      F     89\n",
            "3  olivia      F     84\n",
            "4     cat      F     99\n",
            "5   tywin      M     23\n",
            "6  dragos      M     45\n",
            "7  minkin      M     67\n",
            "8   cersi      F     54\n",
            "9  felina      F     45\n"
          ],
          "name": "stdout"
        }
      ]
    },
    {
      "cell_type": "markdown",
      "metadata": {
        "id": "vkeZm8JC6Nj2",
        "colab_type": "text"
      },
      "source": [
        "rename columns \"name\" as \"Students Name\" and \"marks\" as \"Marks\""
      ]
    },
    {
      "cell_type": "code",
      "metadata": {
        "id": "pkcgc3uj6BQk",
        "colab_type": "code",
        "colab": {}
      },
      "source": [
        "students_df = student_df.rename(columns = {\"name\":\"Students Name\",\"marks\":\"Marks\"})"
      ],
      "execution_count": 0,
      "outputs": []
    },
    {
      "cell_type": "code",
      "metadata": {
        "id": "Su_yftP97hpn",
        "colab_type": "code",
        "outputId": "1003376a-25e7-48df-ca2d-bcc595a645c0",
        "colab": {
          "base_uri": "https://localhost:8080/",
          "height": 204
        }
      },
      "source": [
        "print(students_df)"
      ],
      "execution_count": 84,
      "outputs": [
        {
          "output_type": "stream",
          "text": [
            "  Students Name Gender  Marks\n",
            "0         aruna      F     87\n",
            "1          blob      M     67\n",
            "2          zara      F     89\n",
            "3        olivia      F     84\n",
            "4           cat      F     99\n",
            "5         tywin      M     23\n",
            "6        dragos      M     45\n",
            "7        minkin      M     67\n",
            "8         cersi      F     54\n",
            "9        felina      F     45\n"
          ],
          "name": "stdout"
        }
      ]
    },
    {
      "cell_type": "markdown",
      "metadata": {
        "id": "4Hce5egF60qm",
        "colab_type": "text"
      },
      "source": [
        "sort by marks"
      ]
    },
    {
      "cell_type": "code",
      "metadata": {
        "id": "UG8oivHm64qf",
        "colab_type": "code",
        "colab": {}
      },
      "source": [
        "rank = students_df.sort_values(by =\"Marks\",ascending = False)"
      ],
      "execution_count": 0,
      "outputs": []
    },
    {
      "cell_type": "markdown",
      "metadata": {
        "id": "cH9BH6_o66Rd",
        "colab_type": "text"
      },
      "source": [
        "retrieve names of first three highest marks"
      ]
    },
    {
      "cell_type": "code",
      "metadata": {
        "id": "ZuQn7nw88DHk",
        "colab_type": "code",
        "colab": {}
      },
      "source": [
        "Rank1 = rank.values[0][0]\n",
        "Rank2 = rank.values[1][0]\n",
        "Rank3 = rank.values[2][0]"
      ],
      "execution_count": 0,
      "outputs": []
    },
    {
      "cell_type": "markdown",
      "metadata": {
        "id": "dQMIQ-Wt7Hbz",
        "colab_type": "text"
      },
      "source": [
        "iterrows() retrieve the students details and we can diplay the names of students according to their marks."
      ]
    },
    {
      "cell_type": "code",
      "metadata": {
        "id": "VKCE_vnmi2Xy",
        "colab_type": "code",
        "colab": {
          "base_uri": "https://localhost:8080/",
          "height": 459
        },
        "outputId": "a7d75fb7-e595-45a9-f6e2-ecc67c1acfe3"
      },
      "source": [
        "print(students_df)\n",
        "print(\"Rank1:\",Rank1)\n",
        "print(\"Rank2:\",Rank2)\n",
        "print(\"Rank3:\",Rank3)\n",
        "print(\"<------------------------------------>\")\n",
        "print(\"students list in the rank order:\")\n",
        "for x,y in rank.iterrows():  \n",
        "  print(y[0])"
      ],
      "execution_count": 87,
      "outputs": [
        {
          "output_type": "stream",
          "text": [
            "  Students Name Gender  Marks\n",
            "0         aruna      F     87\n",
            "1          blob      M     67\n",
            "2          zara      F     89\n",
            "3        olivia      F     84\n",
            "4           cat      F     99\n",
            "5         tywin      M     23\n",
            "6        dragos      M     45\n",
            "7        minkin      M     67\n",
            "8         cersi      F     54\n",
            "9        felina      F     45\n",
            "Rank1: cat\n",
            "Rank2: zara\n",
            "Rank3: aruna\n",
            "<------------------------------------>\n",
            "students list in the rank order:\n",
            "cat\n",
            "zara\n",
            "aruna\n",
            "olivia\n",
            "blob\n",
            "minkin\n",
            "cersi\n",
            "dragos\n",
            "felina\n",
            "tywin\n"
          ],
          "name": "stdout"
        }
      ]
    }
  ]
}