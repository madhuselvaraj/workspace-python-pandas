{
  "nbformat": 4,
  "nbformat_minor": 0,
  "metadata": {
    "colab": {
      "name": "day1",
      "version": "0.3.2",
      "provenance": [],
      "collapsed_sections": [],
      "include_colab_link": true
    },
    "kernelspec": {
      "name": "python3",
      "display_name": "Python 3"
    }
  },
  "cells": [
    {
      "cell_type": "markdown",
      "metadata": {
        "id": "view-in-github",
        "colab_type": "text"
      },
      "source": [
        "<a href=\"https://colab.research.google.com/github/madhuselvaraj/workspace-python-pandas/blob/master/day1.ipynb\" target=\"_parent\"><img src=\"https://colab.research.google.com/assets/colab-badge.svg\" alt=\"Open In Colab\"/></a>"
      ]
    },
    {
      "cell_type": "markdown",
      "metadata": {
        "id": "88oNCWD5PXGu",
        "colab_type": "text"
      },
      "source": [
        "# **dataframe in pandas**\n"
      ]
    },
    {
      "cell_type": "code",
      "metadata": {
        "id": "gZoTZym4NJ9u",
        "colab_type": "code",
        "colab": {}
      },
      "source": [
        "import pandas as pd"
      ],
      "execution_count": 0,
      "outputs": []
    },
    {
      "cell_type": "markdown",
      "metadata": {
        "id": "b6m4U0d3SQg5",
        "colab_type": "text"
      },
      "source": [
        "lists"
      ]
    },
    {
      "cell_type": "code",
      "metadata": {
        "id": "yv4lMmBWNp40",
        "colab_type": "code",
        "outputId": "115fc24a-5a0d-4e7a-81bc-1a4613c5e705",
        "colab": {
          "base_uri": "https://localhost:8080/",
          "height": 68
        }
      },
      "source": [
        "data = [[\"stark\",12],[\"lannister\",32]]\n",
        "d = pd.DataFrame(data,columns=[\"name\",\"coins\"])\n",
        "print(d)"
      ],
      "execution_count": 0,
      "outputs": [
        {
          "output_type": "stream",
          "text": [
            "        name  coins\n",
            "0      stark     12\n",
            "1  lannister     32\n"
          ],
          "name": "stdout"
        }
      ]
    },
    {
      "cell_type": "markdown",
      "metadata": {
        "id": "3tk5J1CeSL02",
        "colab_type": "text"
      },
      "source": [
        "dicts"
      ]
    },
    {
      "cell_type": "code",
      "metadata": {
        "id": "-pes6m3HPbmu",
        "colab_type": "code",
        "outputId": "d6aa6759-55d7-41b2-e639-87ab4143e348",
        "colab": {
          "base_uri": "https://localhost:8080/",
          "height": 68
        }
      },
      "source": [
        "data2 = {\"name\":[\"karstark\",\"targerian\"],\"coins\":[10,57]}\n",
        "d2 = pd.DataFrame(data2,index = [\"house1\",\"house2\"])\n",
        "print(d2)"
      ],
      "execution_count": 0,
      "outputs": [
        {
          "output_type": "stream",
          "text": [
            "             name  coins\n",
            "house1   karstark     10\n",
            "house2  targerian     57\n"
          ],
          "name": "stdout"
        }
      ]
    },
    {
      "cell_type": "markdown",
      "metadata": {
        "id": "YSloHyJnSkx0",
        "colab_type": "text"
      },
      "source": [
        "list of dicts"
      ]
    },
    {
      "cell_type": "code",
      "metadata": {
        "id": "ZqNdxHrWRA4i",
        "colab_type": "code",
        "outputId": "879e2e58-a869-4f40-be43-a4e57a569135",
        "colab": {
          "base_uri": "https://localhost:8080/",
          "height": 68
        }
      },
      "source": [
        "data_all = [{\"karstark\":10,\"targerian\":57,\"stark\":25},{\"targerian\":22,\"lannister\":75}]\n",
        "d3= pd.DataFrame(data_all,index = [\"1st year\",\"2nd year\"])\n",
        "print(d3)"
      ],
      "execution_count": 0,
      "outputs": [
        {
          "output_type": "stream",
          "text": [
            "          karstark  lannister  stark  targerian\n",
            "1st year      10.0        NaN   25.0         57\n",
            "2nd year       NaN       75.0    NaN         22\n"
          ],
          "name": "stdout"
        }
      ]
    },
    {
      "cell_type": "code",
      "metadata": {
        "id": "iz1j6GhcTpWN",
        "colab_type": "code",
        "outputId": "56082da6-224b-4d57-feb0-612ab659a770",
        "colab": {
          "base_uri": "https://localhost:8080/",
          "height": 119
        }
      },
      "source": [
        "data4 = {\"sd\":[1,2],\"asd\":[10,20]} #dicts\n",
        "data3 = [[1,10],[2,20]]#lists\n",
        "print(pd.DataFrame(data3,index = [\"1st\",\"2nd\"],columns = [\"sd\",\"asd\"]))\n",
        "print(pd.DataFrame(data4))"
      ],
      "execution_count": 0,
      "outputs": [
        {
          "output_type": "stream",
          "text": [
            "     sd  asd\n",
            "1st   1   10\n",
            "2nd   2   20\n",
            "   sd  asd\n",
            "0   1   10\n",
            "1   2   20\n"
          ],
          "name": "stdout"
        }
      ]
    },
    {
      "cell_type": "code",
      "metadata": {
        "id": "KWi5p7MmX566",
        "colab_type": "code",
        "outputId": "32b7aba1-1af0-4808-e123-94fdd100bf31",
        "colab": {
          "base_uri": "https://localhost:8080/",
          "height": 68
        }
      },
      "source": [
        "dat5 = {\"sd\":pd.Series([1,2]),\n",
        "       \"asd\":pd.Series([10,20])}\n",
        "print(pd.DataFrame(dat5))"
      ],
      "execution_count": 0,
      "outputs": [
        {
          "output_type": "stream",
          "text": [
            "   sd  asd\n",
            "0   1   10\n",
            "1   2   20\n"
          ],
          "name": "stdout"
        }
      ]
    },
    {
      "cell_type": "markdown",
      "metadata": {
        "id": "PYAwk3obaRzg",
        "colab_type": "text"
      },
      "source": [
        "column selection"
      ]
    },
    {
      "cell_type": "code",
      "metadata": {
        "id": "LAe9c6z4ZkKr",
        "colab_type": "code",
        "outputId": "ae5e93d4-fc61-4566-89a7-2b35a7828ae9",
        "colab": {
          "base_uri": "https://localhost:8080/",
          "height": 68
        }
      },
      "source": [
        "print(d3[\"targerian\"])"
      ],
      "execution_count": 0,
      "outputs": [
        {
          "output_type": "stream",
          "text": [
            "1st year    57\n",
            "2nd year    22\n",
            "Name: targerian, dtype: int64\n"
          ],
          "name": "stdout"
        }
      ]
    },
    {
      "cell_type": "code",
      "metadata": {
        "id": "KBnAMkOiaXG0",
        "colab_type": "code",
        "outputId": "30a47a00-16c4-4e88-eba8-74d27d22cc7f",
        "colab": {
          "base_uri": "https://localhost:8080/",
          "height": 68
        }
      },
      "source": [
        "d3[\"freeman\"] = pd.DataFrame(pd.Series([13,24],index = [\"1st year\",\"2nd year\"]))\n",
        "print(d3)"
      ],
      "execution_count": 0,
      "outputs": [
        {
          "output_type": "stream",
          "text": [
            "          karstark  lannister  stark  targerian  freeman\n",
            "1st year      10.0        NaN   25.0         57       13\n",
            "2nd year       NaN       75.0    NaN         22       24\n"
          ],
          "name": "stdout"
        }
      ]
    },
    {
      "cell_type": "code",
      "metadata": {
        "id": "lPFPKVuGbLt1",
        "colab_type": "code",
        "outputId": "e2ca586b-8d47-4681-ee54-6a32115fd97b",
        "colab": {
          "base_uri": "https://localhost:8080/",
          "height": 68
        }
      },
      "source": [
        "del d3[\"karstark\"]\n",
        "print(d3)"
      ],
      "execution_count": 0,
      "outputs": [
        {
          "output_type": "stream",
          "text": [
            "          lannister  stark  targerian  freeman\n",
            "1st year        NaN   25.0         57       13\n",
            "2nd year       75.0    NaN         22       24\n"
          ],
          "name": "stdout"
        }
      ]
    },
    {
      "cell_type": "code",
      "metadata": {
        "id": "PSlJus4obURP",
        "colab_type": "code",
        "outputId": "43932187-6cee-4c76-de34-92aa2d813594",
        "colab": {
          "base_uri": "https://localhost:8080/",
          "height": 68
        }
      },
      "source": [
        "d3.pop(\"freeman\")\n",
        "print(d3)"
      ],
      "execution_count": 0,
      "outputs": [
        {
          "output_type": "stream",
          "text": [
            "          lannister  stark  targerian\n",
            "1st year        NaN   25.0         57\n",
            "2nd year       75.0    NaN         22\n"
          ],
          "name": "stdout"
        }
      ]
    },
    {
      "cell_type": "markdown",
      "metadata": {
        "id": "rIDIC5JAcWbc",
        "colab_type": "text"
      },
      "source": [
        "selection addition deletion by rows"
      ]
    },
    {
      "cell_type": "code",
      "metadata": {
        "id": "PFoFfzgbcVS_",
        "colab_type": "code",
        "colab": {}
      },
      "source": [
        "addd3 = pd.DataFrame([[66,33,44]],columns = [\"lannister\",\"stark\",\"targerian\"],index = [\"3rd year\"])\n",
        "d3 = d3.append(addd3)"
      ],
      "execution_count": 0,
      "outputs": []
    },
    {
      "cell_type": "code",
      "metadata": {
        "id": "H5WJm3ooecWR",
        "colab_type": "code",
        "outputId": "b0e6b58a-0c5f-4c71-ff0b-1178054c0c79",
        "colab": {
          "base_uri": "https://localhost:8080/",
          "height": 102
        }
      },
      "source": [
        "print(d3)"
      ],
      "execution_count": 0,
      "outputs": [
        {
          "output_type": "stream",
          "text": [
            "          lannister  stark  targerian\n",
            "1st year        NaN   25.0         57\n",
            "2nd year       75.0    NaN         22\n",
            "0              66.0   33.0         44\n",
            "3rd year       66.0   33.0         44\n"
          ],
          "name": "stdout"
        }
      ]
    },
    {
      "cell_type": "code",
      "metadata": {
        "id": "tCxl33Wcen1X",
        "colab_type": "code",
        "outputId": "f5409710-76de-458c-c519-9074f76bd5e5",
        "colab": {
          "base_uri": "https://localhost:8080/",
          "height": 85
        }
      },
      "source": [
        "d3 = d3.drop(0)\n",
        "print(d3)"
      ],
      "execution_count": 0,
      "outputs": [
        {
          "output_type": "stream",
          "text": [
            "          lannister  stark  targerian\n",
            "1st year        NaN   25.0         57\n",
            "2nd year       75.0    NaN         22\n",
            "3rd year       66.0   33.0         44\n"
          ],
          "name": "stdout"
        }
      ]
    },
    {
      "cell_type": "code",
      "metadata": {
        "id": "jrXN2KKMfbaY",
        "colab_type": "code",
        "outputId": "91a9593d-07af-497e-a262-83e2fdae1013",
        "colab": {
          "base_uri": "https://localhost:8080/",
          "height": 153
        }
      },
      "source": [
        "print(d3.iloc[1])\n",
        "print(d3.loc[\"1st year\"])"
      ],
      "execution_count": 0,
      "outputs": [
        {
          "output_type": "stream",
          "text": [
            "lannister    75.0\n",
            "stark         NaN\n",
            "targerian    22.0\n",
            "Name: 2nd year, dtype: float64\n",
            "lannister     NaN\n",
            "stark        25.0\n",
            "targerian    57.0\n",
            "Name: 1st year, dtype: float64\n"
          ],
          "name": "stdout"
        }
      ]
    },
    {
      "cell_type": "markdown",
      "metadata": {
        "id": "s_dCSOFS-rcH",
        "colab_type": "text"
      },
      "source": [
        "#panel in pandas"
      ]
    },
    {
      "cell_type": "code",
      "metadata": {
        "id": "1IqFkvia-pEI",
        "colab_type": "code",
        "colab": {
          "base_uri": "https://localhost:8080/",
          "height": 221
        },
        "outputId": "fe1ca60f-d6bc-4388-97e8-2947d4e87072"
      },
      "source": [
        "import pandas as pd\n",
        "import numpy as np\n",
        "p_data = np.random.rand(2,3,4)\n",
        "p = pd.Panel(p_data)\n",
        "print(p)"
      ],
      "execution_count": 5,
      "outputs": [
        {
          "output_type": "stream",
          "text": [
            "<class 'pandas.core.panel.Panel'>\n",
            "Dimensions: 2 (items) x 3 (major_axis) x 4 (minor_axis)\n",
            "Items axis: 0 to 1\n",
            "Major_axis axis: 0 to 2\n",
            "Minor_axis axis: 0 to 3\n"
          ],
          "name": "stdout"
        },
        {
          "output_type": "stream",
          "text": [
            "/usr/local/lib/python3.6/dist-packages/IPython/core/interactiveshell.py:2882: FutureWarning: \n",
            "Panel is deprecated and will be removed in a future version.\n",
            "The recommended way to represent these types of 3-dimensional data are with a MultiIndex on a DataFrame, via the Panel.to_frame() method\n",
            "Alternatively, you can use the xarray package http://xarray.pydata.org/en/stable/.\n",
            "Pandas provides a `.to_xarray()` method to help automate this conversion.\n",
            "\n",
            "  exec(code_obj, self.user_global_ns, self.user_ns)\n"
          ],
          "name": "stderr"
        }
      ]
    },
    {
      "cell_type": "code",
      "metadata": {
        "id": "hxDlY-hN_lkm",
        "colab_type": "code",
        "colab": {
          "base_uri": "https://localhost:8080/",
          "height": 221
        },
        "outputId": "32cc1f0e-6d0f-46a8-9735-d04b8670db37"
      },
      "source": [
        "p_data1 = {\"no1\":pd.DataFrame(np.random.rand(5,3)),\"no2\":pd.DataFrame(np.random.rand(5,3))}\n",
        "p = pd.Panel(p_data1)\n",
        "print(p)"
      ],
      "execution_count": 10,
      "outputs": [
        {
          "output_type": "stream",
          "text": [
            "<class 'pandas.core.panel.Panel'>\n",
            "Dimensions: 2 (items) x 5 (major_axis) x 3 (minor_axis)\n",
            "Items axis: no1 to no2\n",
            "Major_axis axis: 0 to 4\n",
            "Minor_axis axis: 0 to 2\n"
          ],
          "name": "stdout"
        },
        {
          "output_type": "stream",
          "text": [
            "/usr/local/lib/python3.6/dist-packages/IPython/core/interactiveshell.py:2882: FutureWarning: \n",
            "Panel is deprecated and will be removed in a future version.\n",
            "The recommended way to represent these types of 3-dimensional data are with a MultiIndex on a DataFrame, via the Panel.to_frame() method\n",
            "Alternatively, you can use the xarray package http://xarray.pydata.org/en/stable/.\n",
            "Pandas provides a `.to_xarray()` method to help automate this conversion.\n",
            "\n",
            "  exec(code_obj, self.user_global_ns, self.user_ns)\n"
          ],
          "name": "stderr"
        }
      ]
    },
    {
      "cell_type": "code",
      "metadata": {
        "id": "woXCl4a4A4Kb",
        "colab_type": "code",
        "colab": {
          "base_uri": "https://localhost:8080/",
          "height": 119
        },
        "outputId": "6fd114ac-2442-4146-ab52-7c8bf096d0ba"
      },
      "source": [
        "print(p[\"no1\"])"
      ],
      "execution_count": 11,
      "outputs": [
        {
          "output_type": "stream",
          "text": [
            "          0         1         2\n",
            "0  0.691012  0.719272  0.684855\n",
            "1  0.606620  0.547326  0.199399\n",
            "2  0.784937  0.148855  0.973448\n",
            "3  0.978426  0.258715  0.601600\n",
            "4  0.493379  0.754484  0.017122\n"
          ],
          "name": "stdout"
        }
      ]
    },
    {
      "cell_type": "code",
      "metadata": {
        "id": "chuGz0gPBdED",
        "colab_type": "code",
        "colab": {
          "base_uri": "https://localhost:8080/",
          "height": 119
        },
        "outputId": "0d6d9e25-aafe-423f-9d2a-4d9f5a1d7618"
      },
      "source": [
        "print(p[\"no2\"])"
      ],
      "execution_count": 16,
      "outputs": [
        {
          "output_type": "stream",
          "text": [
            "          0         1         2\n",
            "0  0.397596  0.492295  0.596120\n",
            "1  0.523047  0.213903  0.268720\n",
            "2  0.601752  0.159069  0.394857\n",
            "3  0.273076  0.023891  0.205420\n",
            "4  0.172882  0.987778  0.945194\n"
          ],
          "name": "stdout"
        }
      ]
    },
    {
      "cell_type": "code",
      "metadata": {
        "id": "G6q7_eDzA-hq",
        "colab_type": "code",
        "colab": {
          "base_uri": "https://localhost:8080/",
          "height": 85
        },
        "outputId": "3d084135-8728-4142-c595-dafd4d4e1013"
      },
      "source": [
        "print(p.major_xs(3))"
      ],
      "execution_count": 15,
      "outputs": [
        {
          "output_type": "stream",
          "text": [
            "        no1       no2\n",
            "0  0.978426  0.273076\n",
            "1  0.258715  0.023891\n",
            "2  0.601600  0.205420\n"
          ],
          "name": "stdout"
        }
      ]
    },
    {
      "cell_type": "code",
      "metadata": {
        "id": "WhVtYXoEBiGc",
        "colab_type": "code",
        "colab": {
          "base_uri": "https://localhost:8080/",
          "height": 119
        },
        "outputId": "62da6de7-f683-4202-c32e-cde4f5bc738e"
      },
      "source": [
        "print(p.minor_xs(1))"
      ],
      "execution_count": 18,
      "outputs": [
        {
          "output_type": "stream",
          "text": [
            "        no1       no2\n",
            "0  0.719272  0.492295\n",
            "1  0.547326  0.213903\n",
            "2  0.148855  0.159069\n",
            "3  0.258715  0.023891\n",
            "4  0.754484  0.987778\n"
          ],
          "name": "stdout"
        }
      ]
    }
  ]
}