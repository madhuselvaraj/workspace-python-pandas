{
  "nbformat": 4,
  "nbformat_minor": 0,
  "metadata": {
    "colab": {
      "name": "project7-visualization.ipynb",
      "version": "0.3.2",
      "provenance": [],
      "collapsed_sections": [],
      "include_colab_link": true
    },
    "kernelspec": {
      "name": "python3",
      "display_name": "Python 3"
    }
  },
  "cells": [
    {
      "cell_type": "markdown",
      "metadata": {
        "id": "view-in-github",
        "colab_type": "text"
      },
      "source": [
        "<a href=\"https://colab.research.google.com/github/madhuselvaraj/workspace-python-pandas/blob/master/project7_visualization.ipynb\" target=\"_parent\"><img src=\"https://colab.research.google.com/assets/colab-badge.svg\" alt=\"Open In Colab\"/></a>"
      ]
    },
    {
      "cell_type": "code",
      "metadata": {
        "id": "bdZSn1PqGBVt",
        "colab_type": "code",
        "colab": {}
      },
      "source": [
        "import pandas as pd"
      ],
      "execution_count": 0,
      "outputs": []
    },
    {
      "cell_type": "code",
      "metadata": {
        "id": "33bnUULUHrB4",
        "colab_type": "code",
        "colab": {
          "base_uri": "https://localhost:8080/",
          "height": 235
        },
        "outputId": "52703234-c92f-42b9-928b-cb087ae4ed7a"
      },
      "source": [
        "data = {\"Movie\":pd.Series([\"The Revenant\",\"Drishyam\",\"Southpaw\",\"The Invisible Guest\",\"Me Before You\",\"Papillon\",\"Bad Genius\",\"Wonder\",\"Green Book\",\"Alpha\",\"A Star Is Born\"\n",
        "                           ]),\n",
        "       \"Rating\":pd.Series([8,8.3,7.4,8.1,7.4,7.1,7.7,8,8.3,6.7,7.8])\n",
        "       }\n",
        "df =pd.DataFrame(data)\n",
        "print(df)"
      ],
      "execution_count": 3,
      "outputs": [
        {
          "output_type": "stream",
          "text": [
            "                  Movie  Rating\n",
            "0          The Revenant     8.0\n",
            "1              Drishyam     8.3\n",
            "2              Southpaw     7.4\n",
            "3   The Invisible Guest     8.1\n",
            "4         Me Before You     7.4\n",
            "5              Papillon     7.1\n",
            "6            Bad Genius     7.7\n",
            "7                Wonder     8.0\n",
            "8            Green Book     8.3\n",
            "9                 Alpha     6.7\n",
            "10       A Star Is Born     7.8\n"
          ],
          "name": "stdout"
        }
      ]
    },
    {
      "cell_type": "code",
      "metadata": {
        "id": "5pIKSi1cJFCq",
        "colab_type": "code",
        "colab": {
          "base_uri": "https://localhost:8080/",
          "height": 299
        },
        "outputId": "8276c096-6c2b-4253-9dbd-c431efbbdfa6"
      },
      "source": [
        "df.plot(x = 'Movie',y = 'Rating',kind = \"barh\",colormap = 'BrBG',title ='Movie Vs Rating')"
      ],
      "execution_count": 32,
      "outputs": [
        {
          "output_type": "execute_result",
          "data": {
            "text/plain": [
              "<matplotlib.axes._subplots.AxesSubplot at 0x7fe8e0db51d0>"
            ]
          },
          "metadata": {
            "tags": []
          },
          "execution_count": 32
        },
        {
          "output_type": "display_data",
          "data": {
            "image/png": "[encoded data removed]",
            "text/plain": [
              "<Figure size 432x288 with 1 Axes>"
            ]
          },
          "metadata": {
            "tags": []
          }
        }
      ]
    }
  ]
}