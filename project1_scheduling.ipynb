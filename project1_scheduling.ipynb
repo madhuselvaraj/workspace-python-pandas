{
  "nbformat": 4,
  "nbformat_minor": 0,
  "metadata": {
    "colab": {
      "name": "project1_scheduling.ipynb",
      "version": "0.3.2",
      "provenance": [],
      "collapsed_sections": [],
      "include_colab_link": true
    },
    "kernelspec": {
      "name": "python3",
      "display_name": "Python 3"
    }
  },
  "cells": [
    {
      "cell_type": "markdown",
      "metadata": {
        "id": "view-in-github",
        "colab_type": "text"
      },
      "source": [
        "<a href=\"https://colab.research.google.com/github/madhuselvaraj/workspace-python-pandas/blob/master/project1_scheduling.ipynb\" target=\"_parent\"><img src=\"https://colab.research.google.com/assets/colab-badge.svg\" alt=\"Open In Colab\"/></a>"
      ]
    },
    {
      "cell_type": "markdown",
      "metadata": {
        "id": "B7JgRxhjH3Pn",
        "colab_type": "text"
      },
      "source": [
        "#PROJECT 1 Scheduling\n",
        "\n",
        "**Heading**: **Pandas**\n",
        "\n",
        "**Topics** covered: Pandas.Series,Pandas.DataFrame,Pandas.Panel\n",
        "\n",
        "**concept**: Scheduling learning topics.\n",
        "\n",
        "  Here ,we are going to scheduling the learning items for 2 days of 3 topics from each heading such as pandas and numpy."
      ]
    },
    {
      "cell_type": "code",
      "metadata": {
        "id": "8B4wzv6R2myK",
        "colab_type": "code",
        "colab": {}
      },
      "source": [
        "import pandas as pd"
      ],
      "execution_count": 0,
      "outputs": []
    },
    {
      "cell_type": "markdown",
      "metadata": {
        "id": "deDvLTlVCArQ",
        "colab_type": "text"
      },
      "source": [
        "#Pandas.DataFrame"
      ]
    },
    {
      "cell_type": "markdown",
      "metadata": {
        "id": "4RHQHVviCsLJ",
        "colab_type": "text"
      },
      "source": [
        "**Creating a dataframe for \"Day01\"**"
      ]
    },
    {
      "cell_type": "code",
      "metadata": {
        "id": "_sjBv4ig6mYn",
        "colab_type": "code",
        "colab": {}
      },
      "source": [
        "Data_pandas_day1 = {\"Topic1\":pd.Series([\"Series\"],dtype = \"object\",index = [\"Day01\"]),\n",
        "                   \"Topic2\":pd.Series([\"DataFrame\"],dtype = \"object\",index = [\"Day01\"]),\n",
        "                   \"Topic3\":pd.Series([\"Panel\"],dtype = \"object\",index = [\"Day01\"])}"
      ],
      "execution_count": 0,
      "outputs": []
    },
    {
      "cell_type": "code",
      "metadata": {
        "id": "evtSXTEj4lOH",
        "colab_type": "code",
        "colab": {}
      },
      "source": [
        "pandas = pd.DataFrame(Data_pandas_day1)"
      ],
      "execution_count": 0,
      "outputs": []
    },
    {
      "cell_type": "code",
      "metadata": {
        "id": "Y8g5Q5Wd8UF0",
        "colab_type": "code",
        "colab": {
          "base_uri": "https://localhost:8080/",
          "height": 51
        },
        "outputId": "2af4b5eb-bbe3-4b51-c40d-f49cd6542b0f"
      },
      "source": [
        "print(pandas)"
      ],
      "execution_count": 58,
      "outputs": [
        {
          "output_type": "stream",
          "text": [
            "       Topic1     Topic2 Topic3\n",
            "Day01  Series  DataFrame  Panel\n"
          ],
          "name": "stdout"
        }
      ]
    },
    {
      "cell_type": "markdown",
      "metadata": {
        "id": "Bw0UhLV_CNWp",
        "colab_type": "text"
      },
      "source": [
        "**creating another set of data.**"
      ]
    },
    {
      "cell_type": "code",
      "metadata": {
        "id": "PsRbXA9w9j21",
        "colab_type": "code",
        "colab": {}
      },
      "source": [
        "Data_pandas_day2 = {\"Topic1\":pd.Series([\"Basic functionality\"],dtype = \"object\",index = [\"Day02\"]),\n",
        "                   \"Topic2\":pd.Series([\"Descriptive Statistics\"],dtype = \"object\",index = [\"Day02\"]),\n",
        "                   \"Topic3\":pd.Series([\"Function application\"],dtype = \"object\",index = [\"Day02\"])}"
      ],
      "execution_count": 0,
      "outputs": []
    },
    {
      "cell_type": "code",
      "metadata": {
        "id": "V_MsRRGBAA6e",
        "colab_type": "code",
        "colab": {}
      },
      "source": [
        "append_Data_pandas_day2 = pd.DataFrame(Data_pandas_day2,index = [\"Day02\"])"
      ],
      "execution_count": 0,
      "outputs": []
    },
    {
      "cell_type": "markdown",
      "metadata": {
        "id": "lXdrOFnMCY2m",
        "colab_type": "text"
      },
      "source": [
        "**adding onemore row of \"Day02\" in dataframe \"Pandas**\""
      ]
    },
    {
      "cell_type": "code",
      "metadata": {
        "id": "yVNaK79MB2fc",
        "colab_type": "code",
        "colab": {}
      },
      "source": [
        "pandas = pandas.append(append_Data_pandas_day2)"
      ],
      "execution_count": 0,
      "outputs": []
    },
    {
      "cell_type": "code",
      "metadata": {
        "id": "l_yule3HB5HI",
        "colab_type": "code",
        "colab": {
          "base_uri": "https://localhost:8080/",
          "height": 68
        },
        "outputId": "47e0cbb4-883b-45b9-d01b-08955076cf50"
      },
      "source": [
        "print(pandas)"
      ],
      "execution_count": 64,
      "outputs": [
        {
          "output_type": "stream",
          "text": [
            "                    Topic1                  Topic2                Topic3\n",
            "Day01               Series               DataFrame                 Panel\n",
            "Day02  Basic functionality  Descriptive Statistics  Function application\n"
          ],
          "name": "stdout"
        }
      ]
    },
    {
      "cell_type": "markdown",
      "metadata": {
        "id": "3WgVwtu4B-Yy",
        "colab_type": "text"
      },
      "source": [
        "#pandas.panel\n",
        "\n",
        "\n",
        "creating a dataframe called numpy"
      ]
    },
    {
      "cell_type": "code",
      "metadata": {
        "id": "y7TteBksCODA",
        "colab_type": "code",
        "colab": {}
      },
      "source": [
        "data_numpy_day01 = {\"Topic1\":pd.Series([\"Ndarray objects\"],index =[\"Day01\"]),\n",
        "                   \"Topic2\":pd.Series([\"data types\"],index =[\"Day01\"]),\n",
        "                   \"Topic3\":pd.Series([\"array attributes\"],index =[\"Day01\"])}"
      ],
      "execution_count": 0,
      "outputs": []
    },
    {
      "cell_type": "code",
      "metadata": {
        "id": "pBvXFyGHDw5F",
        "colab_type": "code",
        "colab": {}
      },
      "source": [
        "numpy = pd.DataFrame(data_numpy_day01,index = [\"Day01\"])"
      ],
      "execution_count": 0,
      "outputs": []
    },
    {
      "cell_type": "code",
      "metadata": {
        "id": "1PzvzbWoENKq",
        "colab_type": "code",
        "colab": {
          "base_uri": "https://localhost:8080/",
          "height": 51
        },
        "outputId": "1aff4362-0a5b-460a-ee38-da1dbfd7bee6"
      },
      "source": [
        "print(numpy)"
      ],
      "execution_count": 68,
      "outputs": [
        {
          "output_type": "stream",
          "text": [
            "                Topic1      Topic2            Topic3\n",
            "Day01  Ndarray objects  data types  array attributes\n"
          ],
          "name": "stdout"
        }
      ]
    },
    {
      "cell_type": "markdown",
      "metadata": {
        "id": "WOidPl0xES7f",
        "colab_type": "text"
      },
      "source": [
        "creating \"learning_schedule\" panel"
      ]
    },
    {
      "cell_type": "code",
      "metadata": {
        "id": "OMjuxhd8Ektj",
        "colab_type": "code",
        "colab": {}
      },
      "source": [
        "data_panel = {\"pandas\":pandas,\n",
        "             \"numpy\":numpy}"
      ],
      "execution_count": 0,
      "outputs": []
    },
    {
      "cell_type": "code",
      "metadata": {
        "id": "St83Q8f0GB60",
        "colab_type": "code",
        "colab": {}
      },
      "source": [
        "learning_schedule = pd.Panel(data_panel)"
      ],
      "execution_count": 0,
      "outputs": []
    },
    {
      "cell_type": "code",
      "metadata": {
        "id": "v1MBH73cESBk",
        "colab_type": "code",
        "colab": {
          "base_uri": "https://localhost:8080/",
          "height": 102
        },
        "outputId": "e81f22bf-a4c7-4a82-cb8e-aacd48919938"
      },
      "source": [
        "print(learning_schedule)"
      ],
      "execution_count": 76,
      "outputs": [
        {
          "output_type": "stream",
          "text": [
            "<class 'pandas.core.panel.Panel'>\n",
            "Dimensions: 2 (items) x 2 (major_axis) x 3 (minor_axis)\n",
            "Items axis: pandas to numpy\n",
            "Major_axis axis: Day01 to Day02\n",
            "Minor_axis axis: Topic1 to Topic3\n"
          ],
          "name": "stdout"
        }
      ]
    },
    {
      "cell_type": "markdown",
      "metadata": {
        "id": "U4d659P3Gziw",
        "colab_type": "text"
      },
      "source": [
        "**retrieving \"numpy\" item from panel**"
      ]
    },
    {
      "cell_type": "code",
      "metadata": {
        "id": "rXvw643PF9G4",
        "colab_type": "code",
        "colab": {
          "base_uri": "https://localhost:8080/",
          "height": 68
        },
        "outputId": "fb86ce7e-b1f2-4a29-d300-3d9ce31ef883"
      },
      "source": [
        "print(learning_schedule[\"numpy\"])"
      ],
      "execution_count": 80,
      "outputs": [
        {
          "output_type": "stream",
          "text": [
            "                Topic1      Topic2            Topic3\n",
            "Day01  Ndarray objects  data types  array attributes\n",
            "Day02              NaN         NaN               NaN\n"
          ],
          "name": "stdout"
        }
      ]
    },
    {
      "cell_type": "markdown",
      "metadata": {
        "id": "ymJ6mTQ0Gy9h",
        "colab_type": "text"
      },
      "source": [
        "**Retrieving details  of \"Day01\" from all items-> pandas,->numpy**"
      ]
    },
    {
      "cell_type": "code",
      "metadata": {
        "id": "sYLioVl8Gh6f",
        "colab_type": "code",
        "colab": {
          "base_uri": "https://localhost:8080/",
          "height": 85
        },
        "outputId": "160d72f4-8763-4088-886a-44209e7825ec"
      },
      "source": [
        "print(learning_schedule.major_xs(\"Day01\"))"
      ],
      "execution_count": 83,
      "outputs": [
        {
          "output_type": "stream",
          "text": [
            "           pandas             numpy\n",
            "Topic1     Series   Ndarray objects\n",
            "Topic2  DataFrame        data types\n",
            "Topic3      Panel  array attributes\n"
          ],
          "name": "stdout"
        }
      ]
    },
    {
      "cell_type": "markdown",
      "metadata": {
        "id": "ZEnc6M-3HJF3",
        "colab_type": "text"
      },
      "source": [
        "Retrieving details of \"**Topic3**\" from ->**pandas** and numpy of all **Day01** and **Day02** "
      ]
    },
    {
      "cell_type": "code",
      "metadata": {
        "id": "_qAN4QkrHlXD",
        "colab_type": "code",
        "colab": {
          "base_uri": "https://localhost:8080/",
          "height": 68
        },
        "outputId": "93c3ca60-399e-4690-ec6e-4776f9373cd6"
      },
      "source": [
        "print(learning_schedule.minor_xs(\"Topic3\"))"
      ],
      "execution_count": 85,
      "outputs": [
        {
          "output_type": "stream",
          "text": [
            "                     pandas             numpy\n",
            "Day01                 Panel  array attributes\n",
            "Day02  Function application               NaN\n"
          ],
          "name": "stdout"
        }
      ]
    }
  ]
}