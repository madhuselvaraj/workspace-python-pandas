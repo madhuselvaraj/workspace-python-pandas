{
  "nbformat": 4,
  "nbformat_minor": 0,
  "metadata": {
    "colab": {
      "name": "Day4.ipynb",
      "version": "0.3.2",
      "provenance": [],
      "collapsed_sections": [],
      "include_colab_link": true
    },
    "kernelspec": {
      "name": "python3",
      "display_name": "Python 3"
    }
  },
  "cells": [
    {
      "cell_type": "markdown",
      "metadata": {
        "id": "view-in-github",
        "colab_type": "text"
      },
      "source": [
        "<a href=\"https://colab.research.google.com/github/madhuselvaraj/workspace-python-pandas/blob/master/Day4.ipynb\" target=\"_parent\"><img src=\"https://colab.research.google.com/assets/colab-badge.svg\" alt=\"Open In Colab\"/></a>"
      ]
    },
    {
      "cell_type": "markdown",
      "metadata": {
        "id": "O0rtKd1JulJA",
        "colab_type": "text"
      },
      "source": [
        "**Working with text data**"
      ]
    },
    {
      "cell_type": "code",
      "metadata": {
        "id": "zia9Lt7Nknu_",
        "colab_type": "code",
        "colab": {}
      },
      "source": [
        "import pandas as pd"
      ],
      "execution_count": 0,
      "outputs": []
    },
    {
      "cell_type": "code",
      "metadata": {
        "id": "QR6u7yQQlFDY",
        "colab_type": "code",
        "colab": {}
      },
      "source": [
        "data_char = pd.Series([\"apple\",\"BANANA\",\"Carrot \",\"  dATES\",\"or@nge\",\"pine apple\",\"apple\",\"12as\",\"1233\"])"
      ],
      "execution_count": 0,
      "outputs": []
    },
    {
      "cell_type": "code",
      "metadata": {
        "id": "k_qlndIbmBU-",
        "colab_type": "code",
        "outputId": "8ec1a5c0-57d2-4938-b81b-83a22207e232",
        "colab": {
          "base_uri": "https://localhost:8080/",
          "height": 136
        }
      },
      "source": [
        "print(data_char)"
      ],
      "execution_count": 0,
      "outputs": [
        {
          "output_type": "stream",
          "text": [
            "0         apple\n",
            "1        BANANA\n",
            "2       Carrot \n",
            "3         dATES\n",
            "4        or@nge\n",
            "5    pine apple\n",
            "dtype: object\n"
          ],
          "name": "stdout"
        }
      ]
    },
    {
      "cell_type": "code",
      "metadata": {
        "id": "bKwvfgK3mS_8",
        "colab_type": "code",
        "outputId": "f3feb39b-b643-4666-be0e-64d38aa7ec20",
        "colab": {
          "base_uri": "https://localhost:8080/",
          "height": 255
        }
      },
      "source": [
        "print(data_char.str.lower())\n",
        "print(data_char.str.upper())"
      ],
      "execution_count": 0,
      "outputs": [
        {
          "output_type": "stream",
          "text": [
            "0         apple\n",
            "1        banana\n",
            "2       carrot \n",
            "3         dates\n",
            "4        or@nge\n",
            "5    pine apple\n",
            "dtype: object\n",
            "0         APPLE\n",
            "1        BANANA\n",
            "2       CARROT \n",
            "3         DATES\n",
            "4        OR@NGE\n",
            "5    PINE APPLE\n",
            "dtype: object\n"
          ],
          "name": "stdout"
        }
      ]
    },
    {
      "cell_type": "code",
      "metadata": {
        "id": "ex2IBQ-fm11S",
        "colab_type": "code",
        "outputId": "6c14bc60-fca4-4709-8f20-1ba64b74f91e",
        "colab": {
          "base_uri": "https://localhost:8080/",
          "height": 136
        }
      },
      "source": [
        "print(data_char.str.len())"
      ],
      "execution_count": 0,
      "outputs": [
        {
          "output_type": "stream",
          "text": [
            "0     5\n",
            "1     6\n",
            "2     7\n",
            "3     7\n",
            "4     6\n",
            "5    10\n",
            "dtype: int64\n"
          ],
          "name": "stdout"
        }
      ]
    },
    {
      "cell_type": "code",
      "metadata": {
        "id": "vQTdJrmfn3Vj",
        "colab_type": "code",
        "outputId": "9a30d191-b81b-4ff5-f662-a965f6f97b09",
        "colab": {
          "base_uri": "https://localhost:8080/",
          "height": 136
        }
      },
      "source": [
        "print(data_char.str.strip())"
      ],
      "execution_count": 0,
      "outputs": [
        {
          "output_type": "stream",
          "text": [
            "0         apple\n",
            "1        BANANA\n",
            "2        Carrot\n",
            "3         dATES\n",
            "4        or@nge\n",
            "5    pine apple\n",
            "dtype: object\n"
          ],
          "name": "stdout"
        }
      ]
    },
    {
      "cell_type": "code",
      "metadata": {
        "id": "5sGPeomcopJZ",
        "colab_type": "code",
        "outputId": "75d6ba1f-cc63-4998-b9b4-89a4f48bfd94",
        "colab": {
          "base_uri": "https://localhost:8080/",
          "height": 153
        }
      },
      "source": [
        "print(data_char.str.split(' '))"
      ],
      "execution_count": 0,
      "outputs": [
        {
          "output_type": "stream",
          "text": [
            "0          [apple]\n",
            "1         [BANANA]\n",
            "2       [Carrot, ]\n",
            "3      [, , dATES]\n",
            "4         [or@nge]\n",
            "5    [pine, apple]\n",
            "6          [apple]\n",
            "dtype: object\n"
          ],
          "name": "stdout"
        }
      ]
    },
    {
      "cell_type": "code",
      "metadata": {
        "id": "3wvA_J7opAcp",
        "colab_type": "code",
        "outputId": "97ba54ee-b2bd-4a10-e629-4c2d7d5e62a7",
        "colab": {
          "base_uri": "https://localhost:8080/",
          "height": 34
        }
      },
      "source": [
        "print(data_char.str.cat(sep = \"-\"))"
      ],
      "execution_count": 0,
      "outputs": [
        {
          "output_type": "stream",
          "text": [
            "apple-BANANA-Carrot -  dATES-or@nge-pine apple\n"
          ],
          "name": "stdout"
        }
      ]
    },
    {
      "cell_type": "code",
      "metadata": {
        "id": "HTm4vK5opOmZ",
        "colab_type": "code",
        "outputId": "3a4ba1f9-b032-4864-ceb6-bce78d189e9d",
        "colab": {
          "base_uri": "https://localhost:8080/",
          "height": 153
        }
      },
      "source": [
        "print(data_char.str.get_dummies())"
      ],
      "execution_count": 0,
      "outputs": [
        {
          "output_type": "stream",
          "text": [
            "     dATES  BANANA  Carrot   apple  or@nge  pine apple\n",
            "0        0       0        0      1       0           0\n",
            "1        0       1        0      0       0           0\n",
            "2        0       0        1      0       0           0\n",
            "3        1       0        0      0       0           0\n",
            "4        0       0        0      0       1           0\n",
            "5        0       0        0      0       0           1\n",
            "6        0       0        0      1       0           0\n"
          ],
          "name": "stdout"
        }
      ]
    },
    {
      "cell_type": "code",
      "metadata": {
        "id": "W290wpPDri9O",
        "colab_type": "code",
        "outputId": "5b297f03-a107-4a70-82a8-f625e0eb5b95",
        "colab": {
          "base_uri": "https://localhost:8080/",
          "height": 153
        }
      },
      "source": [
        "print(data_char.str.contains('a'))"
      ],
      "execution_count": 0,
      "outputs": [
        {
          "output_type": "stream",
          "text": [
            "0     True\n",
            "1    False\n",
            "2     True\n",
            "3    False\n",
            "4    False\n",
            "5     True\n",
            "6     True\n",
            "dtype: bool\n"
          ],
          "name": "stdout"
        }
      ]
    },
    {
      "cell_type": "code",
      "metadata": {
        "id": "28DgzfZ4r7Xc",
        "colab_type": "code",
        "outputId": "ab6e2046-c261-4136-986e-e455e0e8d27e",
        "colab": {
          "base_uri": "https://localhost:8080/",
          "height": 153
        }
      },
      "source": [
        "print(data_char.str.replace('@','$'))"
      ],
      "execution_count": 0,
      "outputs": [
        {
          "output_type": "stream",
          "text": [
            "0         apple\n",
            "1        BANANA\n",
            "2       Carrot \n",
            "3         dATES\n",
            "4        or$nge\n",
            "5    pine apple\n",
            "6         apple\n",
            "dtype: object\n"
          ],
          "name": "stdout"
        }
      ]
    },
    {
      "cell_type": "code",
      "metadata": {
        "id": "HJjQU3SmsH1k",
        "colab_type": "code",
        "outputId": "da6df55d-6629-4bc3-c33e-d845c2d825a2",
        "colab": {
          "base_uri": "https://localhost:8080/",
          "height": 153
        }
      },
      "source": [
        "print(data_char.str.repeat(3))"
      ],
      "execution_count": 0,
      "outputs": [
        {
          "output_type": "stream",
          "text": [
            "0                   appleappleapple\n",
            "1                BANANABANANABANANA\n",
            "2             Carrot Carrot Carrot \n",
            "3               dATES  dATES  dATES\n",
            "4                or@ngeor@ngeor@nge\n",
            "5    pine applepine applepine apple\n",
            "6                   appleappleapple\n",
            "dtype: object\n"
          ],
          "name": "stdout"
        }
      ]
    },
    {
      "cell_type": "code",
      "metadata": {
        "id": "wfHIgCZLsj5g",
        "colab_type": "code",
        "outputId": "5173958a-197a-4963-dc8a-bfefa22efc5c",
        "colab": {
          "base_uri": "https://localhost:8080/",
          "height": 153
        }
      },
      "source": [
        "print(data_char.str.count('e'))"
      ],
      "execution_count": 0,
      "outputs": [
        {
          "output_type": "stream",
          "text": [
            "0    1\n",
            "1    0\n",
            "2    0\n",
            "3    0\n",
            "4    1\n",
            "5    2\n",
            "6    1\n",
            "dtype: int64\n"
          ],
          "name": "stdout"
        }
      ]
    },
    {
      "cell_type": "code",
      "metadata": {
        "id": "ZGjUB4pqstFw",
        "colab_type": "code",
        "outputId": "ceb311a0-102f-44b0-c777-a9151fd98134",
        "colab": {
          "base_uri": "https://localhost:8080/",
          "height": 153
        }
      },
      "source": [
        "print(data_char.str.startswith('a'))"
      ],
      "execution_count": 0,
      "outputs": [
        {
          "output_type": "stream",
          "text": [
            "0     True\n",
            "1    False\n",
            "2    False\n",
            "3    False\n",
            "4    False\n",
            "5    False\n",
            "6     True\n",
            "dtype: bool\n"
          ],
          "name": "stdout"
        }
      ]
    },
    {
      "cell_type": "code",
      "metadata": {
        "id": "SXxBsJ1Ts1eK",
        "colab_type": "code",
        "outputId": "eaa129e2-3b1a-4baa-8ca2-a6abb557ca0e",
        "colab": {
          "base_uri": "https://localhost:8080/",
          "height": 153
        }
      },
      "source": [
        "print(data_char.str.endswith('S'))"
      ],
      "execution_count": 0,
      "outputs": [
        {
          "output_type": "stream",
          "text": [
            "0    False\n",
            "1    False\n",
            "2    False\n",
            "3     True\n",
            "4    False\n",
            "5    False\n",
            "6    False\n",
            "dtype: bool\n"
          ],
          "name": "stdout"
        }
      ]
    },
    {
      "cell_type": "code",
      "metadata": {
        "id": "tmfmyJO6tBGb",
        "colab_type": "code",
        "outputId": "878c3852-a1d0-4765-a5c2-5a74358042ca",
        "colab": {
          "base_uri": "https://localhost:8080/",
          "height": 153
        }
      },
      "source": [
        "print(data_char.str.find('e'))"
      ],
      "execution_count": 0,
      "outputs": [
        {
          "output_type": "stream",
          "text": [
            "0    4\n",
            "1   -1\n",
            "2   -1\n",
            "3   -1\n",
            "4    5\n",
            "5    3\n",
            "6    4\n",
            "dtype: int64\n"
          ],
          "name": "stdout"
        }
      ]
    },
    {
      "cell_type": "code",
      "metadata": {
        "id": "OkU0JgaBtjhJ",
        "colab_type": "code",
        "outputId": "390992e1-0dc2-4fa0-b28e-7a2d6b386b63",
        "colab": {
          "base_uri": "https://localhost:8080/",
          "height": 153
        }
      },
      "source": [
        "print(data_char.str.findall('e'))"
      ],
      "execution_count": 0,
      "outputs": [
        {
          "output_type": "stream",
          "text": [
            "0       [e]\n",
            "1        []\n",
            "2        []\n",
            "3        []\n",
            "4       [e]\n",
            "5    [e, e]\n",
            "6       [e]\n",
            "dtype: object\n"
          ],
          "name": "stdout"
        }
      ]
    },
    {
      "cell_type": "code",
      "metadata": {
        "id": "kv4Yn8KJtqBH",
        "colab_type": "code",
        "outputId": "e3a89375-8910-4844-fdd6-db4bfc9a1678",
        "colab": {
          "base_uri": "https://localhost:8080/",
          "height": 187
        }
      },
      "source": [
        "print(data_char.str.swapcase())"
      ],
      "execution_count": 0,
      "outputs": [
        {
          "output_type": "stream",
          "text": [
            "0         APPLE\n",
            "1        banana\n",
            "2       cARROT \n",
            "3         Dates\n",
            "4        OR@NGE\n",
            "5    PINE APPLE\n",
            "6         APPLE\n",
            "7          12AS\n",
            "8          1233\n",
            "dtype: object\n"
          ],
          "name": "stdout"
        }
      ]
    },
    {
      "cell_type": "code",
      "metadata": {
        "id": "kUD_p9k4tz6T",
        "colab_type": "code",
        "outputId": "71449799-5194-4ff7-ef32-4f1cd6c0be58",
        "colab": {
          "base_uri": "https://localhost:8080/",
          "height": 153
        }
      },
      "source": [
        "print(data_char.str.isupper())"
      ],
      "execution_count": 0,
      "outputs": [
        {
          "output_type": "stream",
          "text": [
            "0    False\n",
            "1     True\n",
            "2    False\n",
            "3    False\n",
            "4    False\n",
            "5    False\n",
            "6    False\n",
            "dtype: bool\n"
          ],
          "name": "stdout"
        }
      ]
    },
    {
      "cell_type": "code",
      "metadata": {
        "id": "8uCzgpn6t7F4",
        "colab_type": "code",
        "outputId": "6b392f9f-f346-41c7-d58a-9000668b3d8b",
        "colab": {
          "base_uri": "https://localhost:8080/",
          "height": 153
        }
      },
      "source": [
        "print(data_char.str.islower())"
      ],
      "execution_count": 0,
      "outputs": [
        {
          "output_type": "stream",
          "text": [
            "0     True\n",
            "1    False\n",
            "2    False\n",
            "3    False\n",
            "4     True\n",
            "5     True\n",
            "6     True\n",
            "dtype: bool\n"
          ],
          "name": "stdout"
        }
      ]
    },
    {
      "cell_type": "code",
      "metadata": {
        "id": "ELDSzyZ5uIKw",
        "colab_type": "code",
        "outputId": "e53573b6-ffab-4a18-b5e9-3f29a59da2cc",
        "colab": {
          "base_uri": "https://localhost:8080/",
          "height": 187
        }
      },
      "source": [
        "print(data_char.str.isnumeric())"
      ],
      "execution_count": 0,
      "outputs": [
        {
          "output_type": "stream",
          "text": [
            "0    False\n",
            "1    False\n",
            "2    False\n",
            "3    False\n",
            "4    False\n",
            "5    False\n",
            "6    False\n",
            "7    False\n",
            "8     True\n",
            "dtype: bool\n"
          ],
          "name": "stdout"
        }
      ]
    },
    {
      "cell_type": "markdown",
      "metadata": {
        "id": "QfjoDPqGvMyu",
        "colab_type": "text"
      },
      "source": [
        "**Options & customizations**"
      ]
    },
    {
      "cell_type": "code",
      "metadata": {
        "id": "IUTcpVkNyWxX",
        "colab_type": "code",
        "outputId": "d98af401-b786-4229-9fd2-c3120896f144",
        "colab": {
          "base_uri": "https://localhost:8080/",
          "height": 102
        }
      },
      "source": [
        "print(pd.get_option(\"display.max_rows\"))\n",
        "print(pd.get_option(\"display.max_columns\"))\n",
        "print(pd.get_option(\"display.expand_frame_rep\"))\n",
        "print(pd.get_option(\"display.max_colwidth\"))\n",
        "print(pd.get_option(\"display.precision\"))"
      ],
      "execution_count": 0,
      "outputs": [
        {
          "output_type": "stream",
          "text": [
            "100\n",
            "0\n",
            "True\n",
            "50\n",
            "6\n"
          ],
          "name": "stdout"
        }
      ]
    },
    {
      "cell_type": "code",
      "metadata": {
        "id": "A95ZU4UvymoC",
        "colab_type": "code",
        "outputId": "f46db6af-4d45-4d96-b59c-18d6c42610ca",
        "colab": {
          "base_uri": "https://localhost:8080/",
          "height": 34
        }
      },
      "source": [
        "pd.set_option(\"display.max_rows\",100)\n",
        "print(pd.get_option(\"display.max_rows\"))"
      ],
      "execution_count": 0,
      "outputs": [
        {
          "output_type": "stream",
          "text": [
            "100\n"
          ],
          "name": "stdout"
        }
      ]
    },
    {
      "cell_type": "code",
      "metadata": {
        "id": "5UXOev7eztLt",
        "colab_type": "code",
        "outputId": "af3ee55a-955b-471d-c8da-617b3c72b788",
        "colab": {
          "base_uri": "https://localhost:8080/",
          "height": 34
        }
      },
      "source": [
        "pd.reset_option(\"display.max_rows\")\n",
        "print(pd.get_option(\"display.max_rows\"))"
      ],
      "execution_count": 0,
      "outputs": [
        {
          "output_type": "stream",
          "text": [
            "60\n"
          ],
          "name": "stdout"
        }
      ]
    },
    {
      "cell_type": "code",
      "metadata": {
        "id": "c06rorJ30B7p",
        "colab_type": "code",
        "outputId": "53b79710-8ab7-41fb-bbd5-76963d9049f0",
        "colab": {
          "base_uri": "https://localhost:8080/",
          "height": 153
        }
      },
      "source": [
        "print(pd.describe_option(\"display.expand_frame_rep\"))"
      ],
      "execution_count": 0,
      "outputs": [
        {
          "output_type": "stream",
          "text": [
            "display.expand_frame_repr : boolean\n",
            "    Whether to print out the full DataFrame repr for wide DataFrames across\n",
            "    multiple lines, `max_columns` is still respected, but the output will\n",
            "    wrap-around across multiple \"pages\" if its width exceeds `display.width`.\n",
            "    [default: True] [currently: True]\n",
            "\n",
            "\n",
            "None\n"
          ],
          "name": "stdout"
        }
      ]
    },
    {
      "cell_type": "code",
      "metadata": {
        "id": "8pGY85k20fO9",
        "colab_type": "code",
        "outputId": "96fe1b54-4d7a-45fd-cc98-59022facbc61",
        "colab": {
          "base_uri": "https://localhost:8080/",
          "height": 51
        }
      },
      "source": [
        "with pd.option_context(\"display.max_rows\",10):\n",
        "  print(pd.get_option(\"display.max_rows\"))\n",
        "print(pd.get_option(\"display.max_rows\"))"
      ],
      "execution_count": 0,
      "outputs": [
        {
          "output_type": "stream",
          "text": [
            "10\n",
            "60\n"
          ],
          "name": "stdout"
        }
      ]
    },
    {
      "cell_type": "markdown",
      "metadata": {
        "id": "NEM5ZPXA1fn6",
        "colab_type": "text"
      },
      "source": [
        "**Indexing & Selecting data**"
      ]
    },
    {
      "cell_type": "code",
      "metadata": {
        "id": "SIT8TIBe13WR",
        "colab_type": "code",
        "outputId": "02430d5f-3baa-40fa-af86-685082735a25",
        "colab": {
          "base_uri": "https://localhost:8080/",
          "height": 119
        }
      },
      "source": [
        "import numpy as np\n",
        "sample_dataframe = pd.DataFrame(np.random.rand(5,3))\n",
        "print(sample_dataframe)"
      ],
      "execution_count": 0,
      "outputs": [
        {
          "output_type": "stream",
          "text": [
            "          0         1         2\n",
            "0  0.024074  0.660973  0.477587\n",
            "1  0.464118  0.050705  0.402394\n",
            "2  0.347312  0.920934  0.448931\n",
            "3  0.410951  0.384628  0.626371\n",
            "4  0.516317  0.581928  0.662859\n"
          ],
          "name": "stdout"
        }
      ]
    },
    {
      "cell_type": "code",
      "metadata": {
        "id": "8RnnsOFRBIDd",
        "colab_type": "code",
        "colab": {}
      },
      "source": [
        "sample_dataframe =sample_dataframe.rename(columns = {1:'B'},index = {0:'a',2:'c',4:'e'}) "
      ],
      "execution_count": 0,
      "outputs": []
    },
    {
      "cell_type": "code",
      "metadata": {
        "id": "xgB5RzJBAtle",
        "colab_type": "code",
        "outputId": "d88fd8e6-b63e-4e02-a544-0a343fffe905",
        "colab": {
          "base_uri": "https://localhost:8080/",
          "height": 85
        }
      },
      "source": [
        "print(sample_dataframe.loc['c':'e',:])"
      ],
      "execution_count": 0,
      "outputs": [
        {
          "output_type": "stream",
          "text": [
            "          0         B         2\n",
            "c  0.347312  0.920934  0.448931\n",
            "3  0.410951  0.384628  0.626371\n",
            "e  0.516317  0.581928  0.662859\n"
          ],
          "name": "stdout"
        }
      ]
    },
    {
      "cell_type": "code",
      "metadata": {
        "id": "o5iN4BOjBlFF",
        "colab_type": "code",
        "outputId": "408aecd8-93b2-4385-aed0-f5fae838ba22",
        "colab": {
          "base_uri": "https://localhost:8080/",
          "height": 85
        }
      },
      "source": [
        "print(sample_dataframe.iloc[1:4,0:2])"
      ],
      "execution_count": 0,
      "outputs": [
        {
          "output_type": "stream",
          "text": [
            "          0         B\n",
            "1  0.464118  0.050705\n",
            "c  0.347312  0.920934\n",
            "3  0.410951  0.384628\n"
          ],
          "name": "stdout"
        }
      ]
    },
    {
      "cell_type": "code",
      "metadata": {
        "id": "hKSbt1cUCTEU",
        "colab_type": "code",
        "outputId": "db7e937a-21e9-4642-bc27-fbe7193ddca5",
        "colab": {
          "base_uri": "https://localhost:8080/",
          "height": 85
        }
      },
      "source": [
        "print(sample_dataframe.loc['a'] <0)"
      ],
      "execution_count": 0,
      "outputs": [
        {
          "output_type": "stream",
          "text": [
            "0    False\n",
            "B    False\n",
            "2    False\n",
            "Name: a, dtype: bool\n"
          ],
          "name": "stdout"
        }
      ]
    },
    {
      "cell_type": "code",
      "metadata": {
        "id": "tTab7kPBC_lW",
        "colab_type": "code",
        "outputId": "e1651979-026c-48e8-c75f-4f36d9dda373",
        "colab": {
          "base_uri": "https://localhost:8080/",
          "height": 221
        }
      },
      "source": [
        "print(sample_dataframe.ix[1:4,0:2])"
      ],
      "execution_count": 0,
      "outputs": [
        {
          "output_type": "stream",
          "text": [
            "          0         B\n",
            "1  0.464118  0.050705\n",
            "c  0.347312  0.920934\n",
            "3  0.410951  0.384628\n"
          ],
          "name": "stdout"
        },
        {
          "output_type": "stream",
          "text": [
            "/usr/local/lib/python3.6/dist-packages/ipykernel_launcher.py:1: DeprecationWarning: \n",
            ".ix is deprecated. Please use\n",
            ".loc for label based indexing or\n",
            ".iloc for positional indexing\n",
            "\n",
            "See the documentation here:\n",
            "http://pandas.pydata.org/pandas-docs/stable/indexing.html#ix-indexer-is-deprecated\n",
            "  \"\"\"Entry point for launching an IPython kernel.\n"
          ],
          "name": "stderr"
        }
      ]
    },
    {
      "cell_type": "code",
      "metadata": {
        "id": "Z6dgzApQDQJl",
        "colab_type": "code",
        "outputId": "60f484ba-a468-49a5-c864-549bb57a1f1f",
        "colab": {
          "base_uri": "https://localhost:8080/",
          "height": 221
        }
      },
      "source": [
        "print(sample_dataframe.ix['c':'e',:])"
      ],
      "execution_count": 0,
      "outputs": [
        {
          "output_type": "stream",
          "text": [
            "          0         B         2\n",
            "c  0.347312  0.920934  0.448931\n",
            "3  0.410951  0.384628  0.626371\n",
            "e  0.516317  0.581928  0.662859\n"
          ],
          "name": "stdout"
        },
        {
          "output_type": "stream",
          "text": [
            "/usr/local/lib/python3.6/dist-packages/ipykernel_launcher.py:1: DeprecationWarning: \n",
            ".ix is deprecated. Please use\n",
            ".loc for label based indexing or\n",
            ".iloc for positional indexing\n",
            "\n",
            "See the documentation here:\n",
            "http://pandas.pydata.org/pandas-docs/stable/indexing.html#ix-indexer-is-deprecated\n",
            "  \"\"\"Entry point for launching an IPython kernel.\n"
          ],
          "name": "stderr"
        }
      ]
    },
    {
      "cell_type": "code",
      "metadata": {
        "id": "DibGF_LaDd5v",
        "colab_type": "code",
        "outputId": "733548ca-55c0-4eb0-b010-7650ad7c0a0c",
        "colab": {
          "base_uri": "https://localhost:8080/",
          "height": 204
        }
      },
      "source": [
        "sample_dataframe[['B',0]]"
      ],
      "execution_count": 0,
      "outputs": [
        {
          "output_type": "execute_result",
          "data": {
            "text/html": [
              "<div>\n",
              "<style scoped>\n",
              "    .dataframe tbody tr th:only-of-type {\n",
              "        vertical-align: middle;\n",
              "    }\n",
              "\n",
              "    .dataframe tbody tr th {\n",
              "        vertical-align: top;\n",
              "    }\n",
              "\n",
              "    .dataframe thead th {\n",
              "        text-align: right;\n",
              "    }\n",
              "</style>\n",
              "<table border=\"1\" class=\"dataframe\">\n",
              "  <thead>\n",
              "    <tr style=\"text-align: right;\">\n",
              "      <th></th>\n",
              "      <th>B</th>\n",
              "      <th>0</th>\n",
              "    </tr>\n",
              "  </thead>\n",
              "  <tbody>\n",
              "    <tr>\n",
              "      <th>a</th>\n",
              "      <td>0.660973</td>\n",
              "      <td>0.024074</td>\n",
              "    </tr>\n",
              "    <tr>\n",
              "      <th>1</th>\n",
              "      <td>0.050705</td>\n",
              "      <td>0.464118</td>\n",
              "    </tr>\n",
              "    <tr>\n",
              "      <th>c</th>\n",
              "      <td>0.920934</td>\n",
              "      <td>0.347312</td>\n",
              "    </tr>\n",
              "    <tr>\n",
              "      <th>3</th>\n",
              "      <td>0.384628</td>\n",
              "      <td>0.410951</td>\n",
              "    </tr>\n",
              "    <tr>\n",
              "      <th>e</th>\n",
              "      <td>0.581928</td>\n",
              "      <td>0.516317</td>\n",
              "    </tr>\n",
              "  </tbody>\n",
              "</table>\n",
              "</div>"
            ],
            "text/plain": [
              "          B         0\n",
              "a  0.660973  0.024074\n",
              "1  0.050705  0.464118\n",
              "c  0.920934  0.347312\n",
              "3  0.384628  0.410951\n",
              "e  0.581928  0.516317"
            ]
          },
          "metadata": {
            "tags": []
          },
          "execution_count": 105
        }
      ]
    },
    {
      "cell_type": "code",
      "metadata": {
        "id": "DIeJmOa5DmGN",
        "colab_type": "code",
        "outputId": "2374a108-5c7a-4c11-848c-a3404cced2c0",
        "colab": {
          "base_uri": "https://localhost:8080/",
          "height": 119
        }
      },
      "source": [
        "sample_dataframe.B"
      ],
      "execution_count": 0,
      "outputs": [
        {
          "output_type": "execute_result",
          "data": {
            "text/plain": [
              "a    0.660973\n",
              "1    0.050705\n",
              "c    0.920934\n",
              "3    0.384628\n",
              "e    0.581928\n",
              "Name: B, dtype: float64"
            ]
          },
          "metadata": {
            "tags": []
          },
          "execution_count": 109
        }
      ]
    },
    {
      "cell_type": "markdown",
      "metadata": {
        "id": "f5VVntD3i61l",
        "colab_type": "text"
      },
      "source": [
        "**statistical functions**"
      ]
    },
    {
      "cell_type": "code",
      "metadata": {
        "id": "XCW27s-pi6IG",
        "colab_type": "code",
        "colab": {
          "base_uri": "https://localhost:8080/",
          "height": 119
        },
        "outputId": "60990f14-a087-44c7-df12-4a5277d3ae28"
      },
      "source": [
        "data_sf = {\"A\":pd.Series([1,2,3,4,5]),\"B\":pd.Series([6,7,8,9,10])}\n",
        "dataframe_sf = pd.DataFrame(data_sf)\n",
        "print(dataframe_sf)"
      ],
      "execution_count": 3,
      "outputs": [
        {
          "output_type": "stream",
          "text": [
            "   A   B\n",
            "0  1   6\n",
            "1  2   7\n",
            "2  3   8\n",
            "3  4   9\n",
            "4  5  10\n"
          ],
          "name": "stdout"
        }
      ]
    },
    {
      "cell_type": "code",
      "metadata": {
        "id": "pQY5isHUlUR0",
        "colab_type": "code",
        "colab": {
          "base_uri": "https://localhost:8080/",
          "height": 119
        },
        "outputId": "ccac3b21-5962-40e5-d23a-a747c93830fe"
      },
      "source": [
        "print(dataframe_sf.pct_change())"
      ],
      "execution_count": 4,
      "outputs": [
        {
          "output_type": "stream",
          "text": [
            "          A         B\n",
            "0       NaN       NaN\n",
            "1  1.000000  0.166667\n",
            "2  0.500000  0.142857\n",
            "3  0.333333  0.125000\n",
            "4  0.250000  0.111111\n"
          ],
          "name": "stdout"
        }
      ]
    },
    {
      "cell_type": "code",
      "metadata": {
        "id": "rK_2K_DkmCjq",
        "colab_type": "code",
        "colab": {
          "base_uri": "https://localhost:8080/",
          "height": 68
        },
        "outputId": "35662a64-e876-4cf1-e7f2-bf64a7bc58c2"
      },
      "source": [
        "print(dataframe_sf.cov())"
      ],
      "execution_count": 5,
      "outputs": [
        {
          "output_type": "stream",
          "text": [
            "     A    B\n",
            "A  2.5  2.5\n",
            "B  2.5  2.5\n"
          ],
          "name": "stdout"
        }
      ]
    },
    {
      "cell_type": "code",
      "metadata": {
        "id": "DyGitkramSrT",
        "colab_type": "code",
        "colab": {
          "base_uri": "https://localhost:8080/",
          "height": 34
        },
        "outputId": "5aace710-fb63-479c-ea8f-4ebe4ce6fe6c"
      },
      "source": [
        "print(dataframe_sf['A'].cov(dataframe_sf['B']))"
      ],
      "execution_count": 7,
      "outputs": [
        {
          "output_type": "stream",
          "text": [
            "2.5\n"
          ],
          "name": "stdout"
        }
      ]
    },
    {
      "cell_type": "code",
      "metadata": {
        "id": "rz3ALWw6mumF",
        "colab_type": "code",
        "colab": {
          "base_uri": "https://localhost:8080/",
          "height": 68
        },
        "outputId": "f8ae417c-c85e-4bcd-a052-009fc9f128b9"
      },
      "source": [
        "print(dataframe_sf.corr())"
      ],
      "execution_count": 8,
      "outputs": [
        {
          "output_type": "stream",
          "text": [
            "     A    B\n",
            "A  1.0  1.0\n",
            "B  1.0  1.0\n"
          ],
          "name": "stdout"
        }
      ]
    },
    {
      "cell_type": "code",
      "metadata": {
        "id": "xS2whJqXm3kn",
        "colab_type": "code",
        "colab": {
          "base_uri": "https://localhost:8080/",
          "height": 119
        },
        "outputId": "e5c08402-2da4-49f2-d7c9-0360d0385dad"
      },
      "source": [
        "print(dataframe_sf.rank(method = \"first\"))"
      ],
      "execution_count": 13,
      "outputs": [
        {
          "output_type": "stream",
          "text": [
            "     A    B\n",
            "0  1.0  1.0\n",
            "1  2.0  2.0\n",
            "2  3.0  3.0\n",
            "3  4.0  4.0\n",
            "4  5.0  5.0\n"
          ],
          "name": "stdout"
        }
      ]
    }
  ]
}