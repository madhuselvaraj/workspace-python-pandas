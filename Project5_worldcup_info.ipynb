{
  "nbformat": 4,
  "nbformat_minor": 0,
  "metadata": {
    "colab": {
      "name": "Project5_worldcup_info.ipynb",
      "version": "0.3.2",
      "provenance": [],
      "collapsed_sections": [],
      "include_colab_link": true
    },
    "kernelspec": {
      "name": "python3",
      "display_name": "Python 3"
    }
  },
  "cells": [
    {
      "cell_type": "markdown",
      "metadata": {
        "id": "view-in-github",
        "colab_type": "text"
      },
      "source": [
        "<a href=\"https://colab.research.google.com/github/madhuselvaraj/workspace-python-pandas/blob/master/Project5_worldcup_info.ipynb\" target=\"_parent\"><img src=\"https://colab.research.google.com/assets/colab-badge.svg\" alt=\"Open In Colab\"/></a>"
      ]
    },
    {
      "cell_type": "markdown",
      "metadata": {
        "id": "vieIpVw176pA",
        "colab_type": "text"
      },
      "source": [
        "#PROJECT 5\n",
        "**Heading**: Pandas\n",
        "\n",
        "**Topics** covered:\n",
        "\n",
        "**Groupby** ->groupby(),agg(),filter()\n",
        "\n",
        "**concept**: retrieve the details of worlcup matches"
      ]
    },
    {
      "cell_type": "code",
      "metadata": {
        "id": "ig-uXegJvv_M",
        "colab_type": "code",
        "colab": {}
      },
      "source": [
        "import pandas as pd\n",
        "import numpy as np"
      ],
      "execution_count": 0,
      "outputs": []
    },
    {
      "cell_type": "code",
      "metadata": {
        "id": "WI0GSisKqJMA",
        "colab_type": "code",
        "colab": {}
      },
      "source": [
        "data_world_cup_details = {\"Countries\":pd.Series([\"West Indies\",\"Australia\",\"West Indies\",\"England\",\"India\",\"West Indies\",\"Australia\",\"England\",\"Pakistan\",\"England\",\"Srilanka\",\"Australia\",\"Australia\",\"Pakistan\",\"Australia\",\"India\",\"Australia\",\"Srilanka\",\"India\",\"Srilanka\",\"Australia\",\"New Zealand\"]),\n",
        "                    \"Year\":pd.Series([1975,1975,1979,1979,1983,1983,1987,1987,1992,1992,1996,1996,1999,1999,2003,2003,2007,2007,2011,2011,2015,2015]),\n",
        "                    \"Rank\":pd.Series([1,2,1,2,1,2,1,2,1,2,1,2,1,2,1,2,1,2,1,2,1,2])}\n",
        "df_world_cup_details = pd.DataFrame(data_world_cup_details)"
      ],
      "execution_count": 0,
      "outputs": []
    },
    {
      "cell_type": "code",
      "metadata": {
        "id": "V7FXYhTQzbcw",
        "colab_type": "code",
        "colab": {
          "base_uri": "https://localhost:8080/",
          "height": 408
        },
        "outputId": "4bdddf7d-eb98-4fe0-f779-6ae150ac669c"
      },
      "source": [
        "print(df_world_cup_details)"
      ],
      "execution_count": 9,
      "outputs": [
        {
          "output_type": "stream",
          "text": [
            "      Countries  Year  Rank\n",
            "0   West Indies  1975     1\n",
            "1     Australia  1975     2\n",
            "2   West Indies  1979     1\n",
            "3       England  1979     2\n",
            "4         India  1983     1\n",
            "5   West Indies  1983     2\n",
            "6     Australia  1987     1\n",
            "7       England  1987     2\n",
            "8      Pakistan  1992     1\n",
            "9       England  1992     2\n",
            "10     Srilanka  1996     1\n",
            "11    Australia  1996     2\n",
            "12    Australia  1999     1\n",
            "13     Pakistan  1999     2\n",
            "14    Australia  2003     1\n",
            "15        India  2003     2\n",
            "16    Australia  2007     1\n",
            "17     Srilanka  2007     2\n",
            "18        India  2011     1\n",
            "19     Srilanka  2011     2\n",
            "20    Australia  2015     1\n",
            "21  New Zealand  2015     2\n"
          ],
          "name": "stdout"
        }
      ]
    },
    {
      "cell_type": "code",
      "metadata": {
        "id": "9zrOMgglzk1X",
        "colab_type": "code",
        "colab": {
          "base_uri": "https://localhost:8080/",
          "height": 510
        },
        "outputId": "47a7cfa2-cf30-43af-bb30-cfd7ad2daa93"
      },
      "source": [
        "Rank = df_world_cup_details.groupby('Rank')\n",
        "print(\"Detaila of winnerup and runnerup:\")\n",
        "for rank,details in Rank:\n",
        "  print(rank)\n",
        "  print(details)\n",
        "  print(\"-----------------\")"
      ],
      "execution_count": 16,
      "outputs": [
        {
          "output_type": "stream",
          "text": [
            "Detaila of winnerup and runnerup:\n",
            "1\n",
            "      Countries  Year  Rank\n",
            "0   West Indies  1975     1\n",
            "2   West Indies  1979     1\n",
            "4         India  1983     1\n",
            "6     Australia  1987     1\n",
            "8      Pakistan  1992     1\n",
            "10     Srilanka  1996     1\n",
            "12    Australia  1999     1\n",
            "14    Australia  2003     1\n",
            "16    Australia  2007     1\n",
            "18        India  2011     1\n",
            "20    Australia  2015     1\n",
            "-----------------\n",
            "2\n",
            "      Countries  Year  Rank\n",
            "1     Australia  1975     2\n",
            "3       England  1979     2\n",
            "5   West Indies  1983     2\n",
            "7       England  1987     2\n",
            "9       England  1992     2\n",
            "11    Australia  1996     2\n",
            "13     Pakistan  1999     2\n",
            "15        India  2003     2\n",
            "17     Srilanka  2007     2\n",
            "19     Srilanka  2011     2\n",
            "21  New Zealand  2015     2\n",
            "-----------------\n"
          ],
          "name": "stdout"
        }
      ]
    },
    {
      "cell_type": "code",
      "metadata": {
        "id": "p5sTdHhZ2sYF",
        "colab_type": "code",
        "colab": {
          "base_uri": "https://localhost:8080/",
          "height": 272
        },
        "outputId": "8ce360f8-2317-48a0-d66f-2a456666c18e"
      },
      "source": [
        "Countries = df_world_cup_details.groupby(['Countries','Rank'])\n",
        "print(\"Number of time a country pick the trophy:\")\n",
        "print(Countries.agg(np.size))"
      ],
      "execution_count": 20,
      "outputs": [
        {
          "output_type": "stream",
          "text": [
            "Number of time a country pick the trophy:\n",
            "                  Year\n",
            "Countries   Rank      \n",
            "Australia   1        5\n",
            "            2        2\n",
            "England     2        3\n",
            "India       1        2\n",
            "            2        1\n",
            "New Zealand 2        1\n",
            "Pakistan    1        1\n",
            "            2        1\n",
            "Srilanka    1        1\n",
            "            2        2\n",
            "West Indies 1        2\n",
            "            2        1\n"
          ],
          "name": "stdout"
        }
      ]
    },
    {
      "cell_type": "code",
      "metadata": {
        "id": "t4_Qm64r4FOj",
        "colab_type": "code",
        "colab": {
          "base_uri": "https://localhost:8080/",
          "height": 323
        },
        "outputId": "c77949c2-d018-4bda-c574-eb08c26508b0"
      },
      "source": [
        "print(\"Countries which participated in final more than once:\")\n",
        "print(Countries.filter(lambda x: len(x) >1))"
      ],
      "execution_count": 29,
      "outputs": [
        {
          "output_type": "stream",
          "text": [
            "Countries which participated in final more than once:\n",
            "      Countries  Year  Rank\n",
            "0   West Indies  1975     1\n",
            "1     Australia  1975     2\n",
            "2   West Indies  1979     1\n",
            "3       England  1979     2\n",
            "4         India  1983     1\n",
            "6     Australia  1987     1\n",
            "7       England  1987     2\n",
            "9       England  1992     2\n",
            "11    Australia  1996     2\n",
            "12    Australia  1999     1\n",
            "14    Australia  2003     1\n",
            "16    Australia  2007     1\n",
            "17     Srilanka  2007     2\n",
            "18        India  2011     1\n",
            "19     Srilanka  2011     2\n",
            "20    Australia  2015     1\n"
          ],
          "name": "stdout"
        }
      ]
    },
    {
      "cell_type": "code",
      "metadata": {
        "id": "Z02LcQNd5vMM",
        "colab_type": "code",
        "colab": {}
      },
      "source": [
        ""
      ],
      "execution_count": 0,
      "outputs": []
    }
  ]
}