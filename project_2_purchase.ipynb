{
  "nbformat": 4,
  "nbformat_minor": 0,
  "metadata": {
    "colab": {
      "name": "project 2-purchase.ipynb",
      "version": "0.3.2",
      "provenance": [],
      "collapsed_sections": [],
      "include_colab_link": true
    },
    "kernelspec": {
      "name": "python3",
      "display_name": "Python 3"
    }
  },
  "cells": [
    {
      "cell_type": "markdown",
      "metadata": {
        "id": "view-in-github",
        "colab_type": "text"
      },
      "source": [
        "<a href=\"https://colab.research.google.com/github/madhuselvaraj/workspace-python-pandas/blob/master/project_2_purchase.ipynb\" target=\"_parent\"><img src=\"https://colab.research.google.com/assets/colab-badge.svg\" alt=\"Open In Colab\"/></a>"
      ]
    },
    {
      "cell_type": "markdown",
      "metadata": {
        "id": "67Tz0AIqcoyQ",
        "colab_type": "text"
      },
      "source": [
        "#PROJECT 2 Purchase\n",
        "Heading: Pandas\n",
        "\n",
        "Topics covered: Basic functions -- value(), shape(), head()\n",
        "                             Descriptive statistic functions -- count(), sum()\n",
        "                             function application -- dataframe.apply() \n",
        "\n",
        "concept: create a purhase bill.\n",
        "\n",
        "Here ,we are going to create a purhase bill of stationary items and predict total amount with and without GST."
      ]
    },
    {
      "cell_type": "markdown",
      "metadata": {
        "id": "BTdubuo5CyoU",
        "colab_type": "text"
      },
      "source": [
        "Items|Price | Quantity| Amount| |\n",
        "--|--|--|--|--|\n",
        "pencil| 12| 7| 84|\n",
        "pen| 35| 2| 70|\n",
        "eraser| 5| 7|35\n",
        "brush| 35| 1|35\n",
        "Gross|224| GST | 11.2\n",
        "Total amount:235.2"
      ]
    },
    {
      "cell_type": "code",
      "metadata": {
        "id": "JrZBnQatCyI0",
        "colab_type": "code",
        "colab": {}
      },
      "source": [
        "import pandas as pd\n",
        "import numpy as np"
      ],
      "execution_count": 0,
      "outputs": []
    },
    {
      "cell_type": "markdown",
      "metadata": {
        "id": "VVRvX7cwgbRg",
        "colab_type": "text"
      },
      "source": [
        "creating a dataframe with \"Items\" and \"price\" as columns"
      ]
    },
    {
      "cell_type": "code",
      "metadata": {
        "id": "ywYtV3XwElX5",
        "colab_type": "code",
        "colab": {}
      },
      "source": [
        "data_items = {\"Items\":pd.Series([\"pencil\",\"pen\",\"eraser\"]),\n",
        "             \"Price\":pd.Series([12,35,5])}\n",
        "dataframe_items = pd.DataFrame(data_items)"
      ],
      "execution_count": 0,
      "outputs": []
    },
    {
      "cell_type": "markdown",
      "metadata": {
        "id": "PR6H6jEOgjo5",
        "colab_type": "text"
      },
      "source": [
        "adding "
      ]
    },
    {
      "cell_type": "code",
      "metadata": {
        "id": "P5-_gRYYHqdn",
        "colab_type": "code",
        "colab": {}
      },
      "source": [
        "dataframe_items[\"Quantity\"]= pd.Series([7,2,7])\n",
        "dataframe_items[\"Amount\"] = pd.Series([0,0,0])"
      ],
      "execution_count": 0,
      "outputs": []
    },
    {
      "cell_type": "markdown",
      "metadata": {
        "id": "pDAh7QZKgvb_",
        "colab_type": "text"
      },
      "source": [
        "adding one more row"
      ]
    },
    {
      "cell_type": "code",
      "metadata": {
        "id": "nrlUTrpjJQlV",
        "colab_type": "code",
        "colab": {}
      },
      "source": [
        "data_row_add = {\"Items\":[\"brush\"],\"Price\":[35],\"Quantity\":[1],\"Amount\":[0]}\n",
        "dataframe_row_add = pd.DataFrame(data_row_add,index = [3])\n",
        "dataframe_items = dataframe_items.append(dataframe_row_add)"
      ],
      "execution_count": 0,
      "outputs": []
    },
    {
      "cell_type": "markdown",
      "metadata": {
        "id": "pZq0Vg2riSBV",
        "colab_type": "text"
      },
      "source": [
        "getting the shape of rows"
      ]
    },
    {
      "cell_type": "code",
      "metadata": {
        "id": "qdatTaaqKUpK",
        "colab_type": "code",
        "colab": {}
      },
      "source": [
        "(n_items,counter) = dataframe_items.shape\n"
      ],
      "execution_count": 0,
      "outputs": []
    },
    {
      "cell_type": "code",
      "metadata": {
        "id": "hNt9Ycv-OQ3O",
        "colab_type": "code",
        "colab": {}
      },
      "source": [
        "array_amount = np.zeros(n_items)"
      ],
      "execution_count": 0,
      "outputs": []
    },
    {
      "cell_type": "code",
      "metadata": {
        "id": "ptOaWFsZTR4k",
        "colab_type": "code",
        "colab": {}
      },
      "source": [
        "count_items = dataframe_items.count()"
      ],
      "execution_count": 0,
      "outputs": []
    },
    {
      "cell_type": "markdown",
      "metadata": {
        "id": "2d_RNHHNiaNG",
        "colab_type": "text"
      },
      "source": [
        "retrieving the values of \"Amount\" column"
      ]
    },
    {
      "cell_type": "code",
      "metadata": {
        "id": "RH2woNkoTNFn",
        "colab_type": "code",
        "colab": {}
      },
      "source": [
        "for i in range(count_items[0]):\n",
        "    x = values_items[i][1]\n",
        "    y = values_items[i][2]\n",
        "    array_amount[i] = x*y\n",
        "    "
      ],
      "execution_count": 0,
      "outputs": []
    },
    {
      "cell_type": "code",
      "metadata": {
        "id": "BTlAtcseQroY",
        "colab_type": "code",
        "colab": {}
      },
      "source": [
        "series_amount = pd.Series(array_amount)"
      ],
      "execution_count": 0,
      "outputs": []
    },
    {
      "cell_type": "markdown",
      "metadata": {
        "id": "FXiYZhHyivBS",
        "colab_type": "text"
      },
      "source": [
        "adding amount values"
      ]
    },
    {
      "cell_type": "code",
      "metadata": {
        "id": "s6ZF3ySNW7QZ",
        "colab_type": "code",
        "colab": {}
      },
      "source": [
        "dataframe_items[\"Amount\"] = pd.Series(array_amount)"
      ],
      "execution_count": 0,
      "outputs": []
    },
    {
      "cell_type": "code",
      "metadata": {
        "id": "ifumbOuTXoo0",
        "colab_type": "code",
        "colab": {}
      },
      "source": [
        "total = dataframe_items.sum()\n"
      ],
      "execution_count": 0,
      "outputs": []
    },
    {
      "cell_type": "code",
      "metadata": {
        "id": "VU2iR9zQaP0A",
        "colab_type": "code",
        "colab": {}
      },
      "source": [
        "gst = dataframe_items.apply((np.sum))"
      ],
      "execution_count": 0,
      "outputs": []
    },
    {
      "cell_type": "code",
      "metadata": {
        "id": "j1tWBVxsQmKg",
        "colab_type": "code",
        "colab": {
          "base_uri": "https://localhost:8080/",
          "height": 223
        },
        "outputId": "0c889724-e0c6-4394-e844-23aa045f38ac"
      },
      "source": [
        "print(\"Gross: \",total[3])\n",
        "print(\"GST: \",gst[3] * 0.05)\n",
        "print(\"Total amount: \",(total[3] + (gst[3] * 0.05)))\n",
        "dataframe_items.head()"
      ],
      "execution_count": 169,
      "outputs": [
        {
          "output_type": "stream",
          "text": [
            "Gross:  224.0\n",
            "GST:  11.200000000000001\n",
            "Total amount:  235.2\n"
          ],
          "name": "stdout"
        },
        {
          "output_type": "execute_result",
          "data": {
            "text/html": [
              "<div>\n",
              "<style scoped>\n",
              "    .dataframe tbody tr th:only-of-type {\n",
              "        vertical-align: middle;\n",
              "    }\n",
              "\n",
              "    .dataframe tbody tr th {\n",
              "        vertical-align: top;\n",
              "    }\n",
              "\n",
              "    .dataframe thead th {\n",
              "        text-align: right;\n",
              "    }\n",
              "</style>\n",
              "<table border=\"1\" class=\"dataframe\">\n",
              "  <thead>\n",
              "    <tr style=\"text-align: right;\">\n",
              "      <th></th>\n",
              "      <th>Items</th>\n",
              "      <th>Price</th>\n",
              "      <th>Quantity</th>\n",
              "      <th>Amount</th>\n",
              "    </tr>\n",
              "  </thead>\n",
              "  <tbody>\n",
              "    <tr>\n",
              "      <th>0</th>\n",
              "      <td>pencil</td>\n",
              "      <td>12</td>\n",
              "      <td>7</td>\n",
              "      <td>84.0</td>\n",
              "    </tr>\n",
              "    <tr>\n",
              "      <th>1</th>\n",
              "      <td>pen</td>\n",
              "      <td>35</td>\n",
              "      <td>2</td>\n",
              "      <td>70.0</td>\n",
              "    </tr>\n",
              "    <tr>\n",
              "      <th>2</th>\n",
              "      <td>eraser</td>\n",
              "      <td>5</td>\n",
              "      <td>7</td>\n",
              "      <td>35.0</td>\n",
              "    </tr>\n",
              "    <tr>\n",
              "      <th>3</th>\n",
              "      <td>brush</td>\n",
              "      <td>35</td>\n",
              "      <td>1</td>\n",
              "      <td>35.0</td>\n",
              "    </tr>\n",
              "  </tbody>\n",
              "</table>\n",
              "</div>"
            ],
            "text/plain": [
              "    Items  Price  Quantity  Amount\n",
              "0  pencil     12         7    84.0\n",
              "1     pen     35         2    70.0\n",
              "2  eraser      5         7    35.0\n",
              "3   brush     35         1    35.0"
            ]
          },
          "metadata": {
            "tags": []
          },
          "execution_count": 169
        }
      ]
    }
  ]
}